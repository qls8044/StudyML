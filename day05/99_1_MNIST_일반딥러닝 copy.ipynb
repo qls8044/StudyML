{
 "cells": [
  {
   "cell_type": "markdown",
   "metadata": {},
   "source": [
    "### 사전준비"
   ]
  },
  {
   "cell_type": "code",
   "execution_count": 1,
   "metadata": {},
   "outputs": [],
   "source": [
    "# 기본 패키지\n",
    "import numpy as np \n",
    "import pandas as pd \n",
    "import scipy as sp \n",
    "\n",
    "import matplotlib as mpl \n",
    "import matplotlib.pyplot as plt\n",
    "import seaborn as sns"
   ]
  },
  {
   "cell_type": "code",
   "execution_count": 2,
   "metadata": {},
   "outputs": [],
   "source": [
    "# 머신러닝 패키지 import\n",
    "import statsmodels.api as sm \n",
    "import sklearn as sk"
   ]
  },
  {
   "cell_type": "code",
   "execution_count": 3,
   "metadata": {},
   "outputs": [],
   "source": [
    "# 한글 설정, 마이너스 표시 가능하게 하기\n",
    "from matplotlib import rc\n",
    "import matplotlib.font_manager as fm\n",
    "\n",
    "plt.rc('font', family='Malgun Gothic')\n",
    "sns.set(font = 'Malgun Gothic', rc={'axes.unicode_minus':False}, style='darkgrid')"
   ]
  },
  {
   "cell_type": "markdown",
   "metadata": {},
   "source": [
    "### MNIST 다운로드"
   ]
  },
  {
   "cell_type": "code",
   "execution_count": 4,
   "metadata": {},
   "outputs": [],
   "source": [
    "from tensorflow import keras\n",
    "from tensorflow.keras.datasets.mnist import load_data\n",
    "from sklearn.model_selection import train_test_split"
   ]
  },
  {
   "cell_type": "code",
   "execution_count": 5,
   "metadata": {},
   "outputs": [
    {
     "name": "stdout",
     "output_type": "stream",
     "text": [
      "Downloading data from https://storage.googleapis.com/tensorflow/tf-keras-datasets/mnist.npz\n",
      "11490434/11490434 [==============================] - 1s 0us/step\n"
     ]
    }
   ],
   "source": [
    "(train_input, train_target), (test_input, test_target) = load_data()"
   ]
  },
  {
   "cell_type": "code",
   "execution_count": 6,
   "metadata": {},
   "outputs": [
    {
     "name": "stdout",
     "output_type": "stream",
     "text": [
      "(60000, 28, 28) (60000,)\n",
      "(10000, 28, 28) (10000,)\n"
     ]
    }
   ],
   "source": [
    "print(train_input.shape, train_target.shape)\n",
    "print(test_input.shape, test_target.shape)"
   ]
  },
  {
   "cell_type": "code",
   "execution_count": 7,
   "metadata": {},
   "outputs": [],
   "source": [
    "# MNIST 이미지 표현\n",
    "def show_images(dataset, label, nrow, ncol):\n",
    "    # 캔버스 설정\n",
    "    fig, axes = plt.subplots(nrows=nrow, ncols=ncol, figsize=(2*ncol, 2*nrow))\n",
    "    ax = axes.ravel()\n",
    "\n",
    "    xlabels = label[0:nrow*ncol]\n",
    "\n",
    "    for i in range(nrow*ncol):\n",
    "        image = dataset[i]\n",
    "        ax[i].imshow(image, cmap='gray_r')\n",
    "        ax[i].set_xticks([])\n",
    "        ax[i].set_yticks([])\n",
    "        ax[i].set_xlabel(xlabels[i])\n",
    "\n",
    "    plt.tight_layout\n",
    "    plt.show()"
   ]
  },
  {
   "cell_type": "code",
   "execution_count": 9,
   "metadata": {},
   "outputs": [
    {
     "data": {
      "image/png": "[encoded data removed]",
      "text/plain": [
       "<Figure size 1440x288 with 20 Axes>"
      ]
     },
     "metadata": {},
     "output_type": "display_data"
    }
   ],
   "source": [
    "show_images(train_input, train_target,2,10)"
   ]
  },
  {
   "cell_type": "code",
   "execution_count": 25,
   "metadata": {},
   "outputs": [
    {
     "name": "stdout",
     "output_type": "stream",
     "text": [
      "Model: \"ANN\"\n",
      "_________________________________________________________________\n",
      " Layer (type)                Output Shape              Param #   \n",
      "=================================================================\n",
      " flatten_2 (Flatten)         (None, 784)               0         \n",
      "                                                                 \n",
      " hidden (Dense)              (None, 100)               78500     \n",
      "                                                                 \n",
      " dropout (Dropout)           (None, 100)               0         \n",
      "                                                                 \n",
      " output (Dense)              (None, 10)                1010      \n",
      "                                                                 \n",
      "=================================================================\n",
      "Total params: 79,510\n",
      "Trainable params: 79,510\n",
      "Non-trainable params: 0\n",
      "_________________________________________________________________\n"
     ]
    }
   ],
   "source": [
    "model = keras.Sequential(name='ANN')\n",
    "model.add(keras.layers.Flatten(input_shape=(28,28)))\n",
    "model.add(keras.layers.Dense(100,activation='relu',name='hidden'))\n",
    "model.add(keras.layers.Dropout(0.3))\n",
    "model.add(keras.layers.Dense(10,activation='softmax',name='output'))\n",
    "model.summary()"
   ]
  },
  {
   "cell_type": "code",
   "execution_count": 26,
   "metadata": {},
   "outputs": [
    {
     "name": "stdout",
     "output_type": "stream",
     "text": [
      "Epoch 1/20\n",
      "599/600 [============================>.] - ETA: 0s - loss: 4.5957 - accuracy: 0.6150\n",
      "Epoch 1: val_loss improved from inf to 0.82369, saving model to ./data\\best_ann_model.h5\n",
      "600/600 [==============================] - 2s 3ms/step - loss: 4.5899 - accuracy: 0.6152 - val_loss: 0.8237 - val_accuracy: 0.8054\n",
      "Epoch 2/20\n",
      "594/600 [============================>.] - ETA: 0s - loss: 0.9022 - accuracy: 0.7578\n",
      "Epoch 2: val_loss improved from 0.82369 to 0.56226, saving model to ./data\\best_ann_model.h5\n",
      "600/600 [==============================] - 2s 3ms/step - loss: 0.9020 - accuracy: 0.7578 - val_loss: 0.5623 - val_accuracy: 0.8786\n",
      "Epoch 3/20\n",
      "578/600 [===========================>..] - ETA: 0s - loss: 0.6907 - accuracy: 0.8117\n",
      "Epoch 3: val_loss improved from 0.56226 to 0.47600, saving model to ./data\\best_ann_model.h5\n",
      "600/600 [==============================] - 1s 2ms/step - loss: 0.6881 - accuracy: 0.8124 - val_loss: 0.4760 - val_accuracy: 0.9058\n",
      "Epoch 4/20\n",
      "589/600 [============================>.] - ETA: 0s - loss: 0.5706 - accuracy: 0.8423\n",
      "Epoch 4: val_loss improved from 0.47600 to 0.42656, saving model to ./data\\best_ann_model.h5\n",
      "600/600 [==============================] - 1s 2ms/step - loss: 0.5706 - accuracy: 0.8422 - val_loss: 0.4266 - val_accuracy: 0.9174\n",
      "Epoch 5/20\n",
      "592/600 [============================>.] - ETA: 0s - loss: 0.4989 - accuracy: 0.8646\n",
      "Epoch 5: val_loss improved from 0.42656 to 0.38606, saving model to ./data\\best_ann_model.h5\n",
      "600/600 [==============================] - 1s 2ms/step - loss: 0.4973 - accuracy: 0.8650 - val_loss: 0.3861 - val_accuracy: 0.9222\n",
      "Epoch 6/20\n",
      "582/600 [============================>.] - ETA: 0s - loss: 0.4539 - accuracy: 0.8757\n",
      "Epoch 6: val_loss improved from 0.38606 to 0.32928, saving model to ./data\\best_ann_model.h5\n",
      "600/600 [==============================] - 2s 3ms/step - loss: 0.4558 - accuracy: 0.8754 - val_loss: 0.3293 - val_accuracy: 0.9247\n",
      "Epoch 7/20\n",
      "599/600 [============================>.] - ETA: 0s - loss: 0.4251 - accuracy: 0.8834\n",
      "Epoch 7: val_loss improved from 0.32928 to 0.32164, saving model to ./data\\best_ann_model.h5\n",
      "600/600 [==============================] - 2s 3ms/step - loss: 0.4249 - accuracy: 0.8834 - val_loss: 0.3216 - val_accuracy: 0.9280\n",
      "Epoch 8/20\n",
      "587/600 [============================>.] - ETA: 0s - loss: 0.3850 - accuracy: 0.8945\n",
      "Epoch 8: val_loss improved from 0.32164 to 0.30895, saving model to ./data\\best_ann_model.h5\n",
      "600/600 [==============================] - 2s 3ms/step - loss: 0.3864 - accuracy: 0.8944 - val_loss: 0.3090 - val_accuracy: 0.9331\n",
      "Epoch 9/20\n",
      "589/600 [============================>.] - ETA: 0s - loss: 0.3808 - accuracy: 0.8963\n",
      "Epoch 9: val_loss improved from 0.30895 to 0.27871, saving model to ./data\\best_ann_model.h5\n",
      "600/600 [==============================] - 2s 3ms/step - loss: 0.3809 - accuracy: 0.8963 - val_loss: 0.2787 - val_accuracy: 0.9374\n",
      "Epoch 10/20\n",
      "594/600 [============================>.] - ETA: 0s - loss: 0.3625 - accuracy: 0.9004\n",
      "Epoch 10: val_loss improved from 0.27871 to 0.26547, saving model to ./data\\best_ann_model.h5\n",
      "600/600 [==============================] - 2s 3ms/step - loss: 0.3623 - accuracy: 0.9004 - val_loss: 0.2655 - val_accuracy: 0.9392\n",
      "Epoch 11/20\n",
      "582/600 [============================>.] - ETA: 0s - loss: 0.3416 - accuracy: 0.9048\n",
      "Epoch 11: val_loss did not improve from 0.26547\n",
      "600/600 [==============================] - 2s 3ms/step - loss: 0.3424 - accuracy: 0.9044 - val_loss: 0.2683 - val_accuracy: 0.9420\n",
      "Epoch 12/20\n",
      "595/600 [============================>.] - ETA: 0s - loss: 0.3292 - accuracy: 0.9109\n",
      "Epoch 12: val_loss improved from 0.26547 to 0.25826, saving model to ./data\\best_ann_model.h5\n",
      "600/600 [==============================] - 2s 3ms/step - loss: 0.3295 - accuracy: 0.9108 - val_loss: 0.2583 - val_accuracy: 0.9462\n",
      "Epoch 13/20\n",
      "577/600 [===========================>..] - ETA: 0s - loss: 0.3144 - accuracy: 0.9126\n",
      "Epoch 13: val_loss improved from 0.25826 to 0.23138, saving model to ./data\\best_ann_model.h5\n",
      "600/600 [==============================] - 2s 3ms/step - loss: 0.3152 - accuracy: 0.9126 - val_loss: 0.2314 - val_accuracy: 0.9471\n",
      "Epoch 14/20\n",
      "598/600 [============================>.] - ETA: 0s - loss: 0.3093 - accuracy: 0.9140\n",
      "Epoch 14: val_loss improved from 0.23138 to 0.22851, saving model to ./data\\best_ann_model.h5\n",
      "600/600 [==============================] - 1s 2ms/step - loss: 0.3094 - accuracy: 0.9141 - val_loss: 0.2285 - val_accuracy: 0.9516\n",
      "Epoch 15/20\n",
      "582/600 [============================>.] - ETA: 0s - loss: 0.3139 - accuracy: 0.9157\n",
      "Epoch 15: val_loss did not improve from 0.22851\n",
      "600/600 [==============================] - 2s 3ms/step - loss: 0.3133 - accuracy: 0.9159 - val_loss: 0.2465 - val_accuracy: 0.9503\n",
      "Epoch 16/20\n",
      "582/600 [============================>.] - ETA: 0s - loss: 0.3007 - accuracy: 0.9184\n",
      "Epoch 16: val_loss did not improve from 0.22851\n",
      "600/600 [==============================] - 2s 3ms/step - loss: 0.3018 - accuracy: 0.9183 - val_loss: 0.2315 - val_accuracy: 0.9495\n"
     ]
    }
   ],
   "source": [
    "# 255.0 나눠서 0~1로 값 축소하는 일은 암함\n",
    "model.compile(optimizer='adam',loss='sparse_categorical_crossentropy', metrics='accuracy')\n",
    "checkpoint_cb = keras.callbacks.ModelCheckpoint('./data/best_ann_model.h5', save_best_only=True, verbose=1)\n",
    "early_stopping_cb = keras.callbacks.EarlyStopping(patience=2, restore_best_weights=True)\n",
    "history = model.fit(train_input, train_target, epochs=20, verbose=1, validation_data=(test_input, test_target),\n",
    "                    batch_size=100, callbacks=[checkpoint_cb, early_stopping_cb])"
   ]
  },
  {
   "cell_type": "code",
   "execution_count": 13,
   "metadata": {},
   "outputs": [
    {
     "data": {
      "image/png": "[encoded data removed]",
      "text/plain": [
       "<Figure size 720x360 with 1 Axes>"
      ]
     },
     "metadata": {
      "needs_background": "light"
     },
     "output_type": "display_data"
    }
   ],
   "source": [
    "plot_target = ['loss','val_loss', 'accuracy','val_accuracy']\n",
    "plt.figure(figsize=(10,5))\n",
    "\n",
    "for each in plot_target:\n",
    "    plt.plot(history.history[each], label=each)\n",
    "plt.legend()\n",
    "plt.show()"
   ]
  },
  {
   "cell_type": "code",
   "execution_count": 14,
   "metadata": {},
   "outputs": [
    {
     "name": "stdout",
     "output_type": "stream",
     "text": [
      "313/313 [==============================] - 1s 1ms/step - loss: 0.2450 - accuracy: 0.9507\n"
     ]
    },
    {
     "data": {
      "text/plain": [
       "[0.24495923519134521, 0.9506999850273132]"
      ]
     },
     "execution_count": 14,
     "metadata": {},
     "output_type": "execute_result"
    }
   ],
   "source": [
    "model.evaluate(test_input, test_target)"
   ]
  },
  {
   "cell_type": "code",
   "execution_count": 15,
   "metadata": {},
   "outputs": [
    {
     "name": "stdout",
     "output_type": "stream",
     "text": [
      "313/313 [==============================] - 0s 1ms/step\n"
     ]
    }
   ],
   "source": [
    "# 예측된 결과값 리스트\n",
    "pred_result = model.predict(test_input)"
   ]
  },
  {
   "cell_type": "code",
   "execution_count": 17,
   "metadata": {},
   "outputs": [
    {
     "data": {
      "text/plain": [
       "(10000,)"
      ]
     },
     "execution_count": 17,
     "metadata": {},
     "output_type": "execute_result"
    }
   ],
   "source": [
    "pred_labels = np.argmax(pred_result, axis=-1)\n",
    "pred_labels[:10]\n",
    "pred_labels.shape"
   ]
  },
  {
   "cell_type": "markdown",
   "metadata": {},
   "source": [
    "##### 예측 실패한 이미지 파악"
   ]
  },
  {
   "cell_type": "code",
   "execution_count": 18,
   "metadata": {},
   "outputs": [
    {
     "data": {
      "text/plain": [
       "493"
      ]
     },
     "execution_count": 18,
     "metadata": {},
     "output_type": "execute_result"
    }
   ],
   "source": [
    "wrong_result = []\n",
    "for i in range(0,len(test_target)):\n",
    "    if pred_labels[i] != test_target[i]:\n",
    "        wrong_result.append(i)\n",
    "\n",
    "len(wrong_result)"
   ]
  },
  {
   "cell_type": "code",
   "execution_count": 21,
   "metadata": {},
   "outputs": [
    {
     "data": {
      "text/plain": [
       "16"
      ]
     },
     "execution_count": 21,
     "metadata": {},
     "output_type": "execute_result"
    }
   ],
   "source": [
    "import random\n",
    "\n",
    "samples = random.choices(population=wrong_result,k=16)\n",
    "len(samples)"
   ]
  },
  {
   "cell_type": "code",
   "execution_count": 24,
   "metadata": {},
   "outputs": [
    {
     "data": {
      "image/png": "[encoded data removed]",
      "text/plain": [
       "<Figure size 1008x864 with 16 Axes>"
      ]
     },
     "metadata": {
      "needs_background": "light"
     },
     "output_type": "display_data"
    }
   ],
   "source": [
    "# 예측실패한 이미지 확인\n",
    "plt.figure(figsize=(14,12))\n",
    "for idx,n in enumerate(samples):\n",
    "    plt.subplot(4,4,idx+1)\n",
    "    plt.imshow(test_input[n].reshape(28,28),cmap='gray_r',interpolation='nearest')\n",
    "    plt.title(f'label={test_target[n]} / predict={pred_labels[n]}')\n",
    "    plt.axis('off')\n",
    "\n",
    "plt.show()"
   ]
  },
  {
   "cell_type": "code",
   "execution_count": null,
   "metadata": {},
   "outputs": [],
   "source": []
  }
 ],
 "metadata": {
  "kernelspec": {
   "display_name": "Python 3.10.6 64-bit (windows store)",
   "language": "python",
   "name": "python3"
  },
  "language_info": {
   "codemirror_mode": {
    "name": "ipython",
    "version": 3
   },
   "file_extension": ".py",
   "mimetype": "text/x-python",
   "name": "python",
   "nbconvert_exporter": "python",
   "pygments_lexer": "ipython3",
   "version": "3.10.6"
  },
  "orig_nbformat": 4,
  "vscode": {
   "interpreter": {
    "hash": "8bf0d51478355d2251941b3b98616086516a0eddd7c72ee47a3371765770709a"
   }
  }
 },
 "nbformat": 4,
 "nbformat_minor": 2
}
