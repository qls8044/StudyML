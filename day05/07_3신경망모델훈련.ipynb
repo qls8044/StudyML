{
 "cells": [
  {
   "cell_type": "markdown",
   "metadata": {},
   "source": [
    "### 사전준비"
   ]
  },
  {
   "cell_type": "code",
   "execution_count": 1,
   "metadata": {},
   "outputs": [],
   "source": [
    "# 기본 패키지\n",
    "import numpy as np \n",
    "import pandas as pd \n",
    "import scipy as sp \n",
    "\n",
    "import matplotlib as mpl \n",
    "import matplotlib.pyplot as plt\n",
    "import seaborn as sns"
   ]
  },
  {
   "cell_type": "code",
   "execution_count": 2,
   "metadata": {},
   "outputs": [],
   "source": [
    "# 머신러닝 패키지 import\n",
    "import statsmodels.api as sm \n",
    "import sklearn as sk"
   ]
  },
  {
   "cell_type": "code",
   "execution_count": 3,
   "metadata": {},
   "outputs": [],
   "source": [
    "# 한글 설정, 마이너스 표시 가능하게 하기\n",
    "from matplotlib import rc\n",
    "import matplotlib.font_manager as fm\n",
    "\n",
    "plt.rc('font', family='Malgun Gothic')\n",
    "sns.set(font = 'Malgun Gothic', rc={'axes.unicode_minus':False}, style='darkgrid')"
   ]
  },
  {
   "cell_type": "markdown",
   "metadata": {},
   "source": [
    "### 패션MNIST 데이터\n",
    "\n",
    "### 데이터 로드"
   ]
  },
  {
   "cell_type": "code",
   "execution_count": 4,
   "metadata": {},
   "outputs": [],
   "source": [
    "from tensorflow import keras\n",
    "from tensorflow.keras.datasets.fashion_mnist import load_data\n",
    "from sklearn.model_selection import train_test_split"
   ]
  },
  {
   "cell_type": "code",
   "execution_count": 5,
   "metadata": {},
   "outputs": [],
   "source": [
    "(train_input, train_target), (test_input, test_target) = load_data()"
   ]
  },
  {
   "cell_type": "markdown",
   "metadata": {},
   "source": [
    "#### 정규화"
   ]
  },
  {
   "cell_type": "markdown",
   "metadata": {},
   "source": [
    "#### ReLu 활성화 함수 / Flattern 층(2차원 -> 1차원)"
   ]
  },
  {
   "cell_type": "code",
   "execution_count": 6,
   "metadata": {},
   "outputs": [],
   "source": [
    "(train_input, train_target), (test_input, test_target) = load_data()"
   ]
  },
  {
   "cell_type": "code",
   "execution_count": 7,
   "metadata": {},
   "outputs": [],
   "source": [
    "train_scaled = train_input / 255.0 # 0~1 사이 실수값 변경"
   ]
  },
  {
   "cell_type": "code",
   "execution_count": 8,
   "metadata": {},
   "outputs": [],
   "source": [
    "train_scaled, val_scaled, train_target, val_target = train_test_split(train_scaled, train_target, test_size=0.2, random_state=42)"
   ]
  },
  {
   "cell_type": "code",
   "execution_count": 9,
   "metadata": {},
   "outputs": [
    {
     "data": {
      "text/plain": [
       "(48000, 28, 28)"
      ]
     },
     "execution_count": 9,
     "metadata": {},
     "output_type": "execute_result"
    }
   ],
   "source": [
    "train_scaled.shape"
   ]
  },
  {
   "cell_type": "code",
   "execution_count": 10,
   "metadata": {},
   "outputs": [
    {
     "name": "stdout",
     "output_type": "stream",
     "text": [
      "(48000, 28, 28) (48000,)\n",
      "(12000, 28, 28) (12000,)\n"
     ]
    }
   ],
   "source": [
    "print(train_scaled.shape, train_target.shape)\n",
    "print(val_scaled.shape, val_target.shape)"
   ]
  },
  {
   "cell_type": "markdown",
   "metadata": {},
   "source": [
    "#### 모델 생성 함수"
   ]
  },
  {
   "cell_type": "code",
   "execution_count": 22,
   "metadata": {},
   "outputs": [],
   "source": [
    "def model_fn(a_layer=None):\n",
    "    model = keras.Sequential(name='model_fn_MakeModel')\n",
    "    model.add(keras.layers.Flatten(input_shape=(28,28))) # 2차원 입력값을 1차원으로 변환\n",
    "    model.add(keras.layers.Dense(100, activation='relu', name='hidden'))\n",
    "\n",
    "    if a_layer:\n",
    "        model.add(a_layer)\n",
    "        \n",
    "    model.add(keras.layers.Dense(10, activation='softmax', name='output'))\n",
    "\n",
    "    return model"
   ]
  },
  {
   "cell_type": "code",
   "execution_count": 16,
   "metadata": {},
   "outputs": [
    {
     "name": "stdout",
     "output_type": "stream",
     "text": [
      "Model: \"model_fn MakeModel\"\n",
      "_________________________________________________________________\n",
      " Layer (type)                Output Shape              Param #   \n",
      "=================================================================\n",
      " flatten_2 (Flatten)         (None, 784)               0         \n",
      "                                                                 \n",
      " hidden (Dense)              (None, 100)               78500     \n",
      "                                                                 \n",
      " hidden2 (Dense)             (None, 100)               10100     \n",
      "                                                                 \n",
      " output (Dense)              (None, 10)                1010      \n",
      "                                                                 \n",
      "=================================================================\n",
      "Total params: 89,610\n",
      "Trainable params: 89,610\n",
      "Non-trainable params: 0\n",
      "_________________________________________________________________\n"
     ]
    }
   ],
   "source": [
    "model = model_fn(keras.layers.Dense(100,activation='relu', name='hidden2'))\n",
    "model.summary()"
   ]
  },
  {
   "cell_type": "markdown",
   "metadata": {},
   "source": [
    "#### 손실곡선, 정확도"
   ]
  },
  {
   "cell_type": "code",
   "execution_count": 23,
   "metadata": {},
   "outputs": [
    {
     "name": "stdout",
     "output_type": "stream",
     "text": [
      "Model: \"model_fn_MakeModel\"\n",
      "_________________________________________________________________\n",
      " Layer (type)                Output Shape              Param #   \n",
      "=================================================================\n",
      " flatten_5 (Flatten)         (None, 784)               0         \n",
      "                                                                 \n",
      " hidden (Dense)              (None, 100)               78500     \n",
      "                                                                 \n",
      " output (Dense)              (None, 10)                1010      \n",
      "                                                                 \n",
      "=================================================================\n",
      "Total params: 79,510\n",
      "Trainable params: 79,510\n",
      "Non-trainable params: 0\n",
      "_________________________________________________________________\n"
     ]
    }
   ],
   "source": [
    "model = model_fn()\n",
    "model.summary()"
   ]
  },
  {
   "cell_type": "code",
   "execution_count": 24,
   "metadata": {},
   "outputs": [
    {
     "name": "stdout",
     "output_type": "stream",
     "text": [
      "Epoch 1/5\n",
      "1500/1500 - 2s - loss: 0.5321 - accuracy: 0.8129 - 2s/epoch - 2ms/step\n",
      "Epoch 2/5\n",
      "1500/1500 - 2s - loss: 0.3929 - accuracy: 0.8588 - 2s/epoch - 1ms/step\n",
      "Epoch 3/5\n",
      "1500/1500 - 2s - loss: 0.3565 - accuracy: 0.8725 - 2s/epoch - 1ms/step\n",
      "Epoch 4/5\n",
      "1500/1500 - 2s - loss: 0.3342 - accuracy: 0.8815 - 2s/epoch - 1ms/step\n",
      "Epoch 5/5\n",
      "1500/1500 - 2s - loss: 0.3182 - accuracy: 0.8862 - 2s/epoch - 2ms/step\n"
     ]
    }
   ],
   "source": [
    "model.compile(loss='sparse_categorical_crossentropy', metrics='accuracy')\n",
    "history = model.fit(train_scaled, train_target, epochs=5, verbose=2)"
   ]
  },
  {
   "cell_type": "code",
   "execution_count": 25,
   "metadata": {},
   "outputs": [
    {
     "data": {
      "text/plain": [
       "{'loss': [0.5320735573768616,\n",
       "  0.3928990960121155,\n",
       "  0.3564746379852295,\n",
       "  0.3341692388057709,\n",
       "  0.31815603375434875],\n",
       " 'accuracy': [0.8128958344459534,\n",
       "  0.8588125109672546,\n",
       "  0.8725000023841858,\n",
       "  0.8815000057220459,\n",
       "  0.8861666917800903]}"
      ]
     },
     "execution_count": 25,
     "metadata": {},
     "output_type": "execute_result"
    }
   ],
   "source": [
    "history.history"
   ]
  },
  {
   "cell_type": "markdown",
   "metadata": {},
   "source": [
    "#### 손실곡선 차트"
   ]
  },
  {
   "cell_type": "code",
   "execution_count": 26,
   "metadata": {},
   "outputs": [
    {
     "data": {
      "image/png": "[encoded data removed]",
      "text/plain": [
       "<Figure size 720x360 with 1 Axes>"
      ]
     },
     "metadata": {
      "needs_background": "light"
     },
     "output_type": "display_data"
    }
   ],
   "source": [
    "plt.figure(figsize=(10,5))\n",
    "plt.plot(history.history['loss'])\n",
    "plt.title('손실곡선')\n",
    "plt.xlabel('에포크(훈련횟수)')\n",
    "plt.ylabel('손실값')\n",
    "plt.show()"
   ]
  },
  {
   "cell_type": "markdown",
   "metadata": {},
   "source": [
    "#### 정확도 차트"
   ]
  },
  {
   "cell_type": "code",
   "execution_count": 29,
   "metadata": {},
   "outputs": [
    {
     "data": {
      "image/png": "[encoded data removed]",
      "text/plain": [
       "<Figure size 720x360 with 1 Axes>"
      ]
     },
     "metadata": {
      "needs_background": "light"
     },
     "output_type": "display_data"
    }
   ],
   "source": [
    "plt.figure(figsize=(10,5))\n",
    "plt.plot(history.history['accuracy'])\n",
    "plt.title('정확도')\n",
    "plt.xlabel('에포크(훈련횟수)')\n",
    "plt.ylabel('정확도')\n",
    "plt.show()"
   ]
  },
  {
   "cell_type": "markdown",
   "metadata": {},
   "source": [
    "#### 에포크를 20번으로 늘림 "
   ]
  },
  {
   "cell_type": "code",
   "execution_count": 30,
   "metadata": {},
   "outputs": [
    {
     "name": "stdout",
     "output_type": "stream",
     "text": [
      "Epoch 1/20\n",
      "1500/1500 [==============================] - 3s 2ms/step - loss: 0.5353 - accuracy: 0.8114\n",
      "Epoch 2/20\n",
      "1500/1500 [==============================] - 2s 2ms/step - loss: 0.3937 - accuracy: 0.8589\n",
      "Epoch 3/20\n",
      "1500/1500 [==============================] - 2s 2ms/step - loss: 0.3564 - accuracy: 0.8712\n",
      "Epoch 4/20\n",
      "1500/1500 [==============================] - 2s 2ms/step - loss: 0.3331 - accuracy: 0.8791\n",
      "Epoch 5/20\n",
      "1500/1500 [==============================] - 2s 2ms/step - loss: 0.3205 - accuracy: 0.8865\n",
      "Epoch 6/20\n",
      "1500/1500 [==============================] - 2s 2ms/step - loss: 0.3098 - accuracy: 0.8900\n",
      "Epoch 7/20\n",
      "1500/1500 [==============================] - 2s 2ms/step - loss: 0.3004 - accuracy: 0.8939\n",
      "Epoch 8/20\n",
      "1500/1500 [==============================] - 2s 2ms/step - loss: 0.2924 - accuracy: 0.8975\n",
      "Epoch 9/20\n",
      "1500/1500 [==============================] - 2s 2ms/step - loss: 0.2841 - accuracy: 0.8996\n",
      "Epoch 10/20\n",
      "1500/1500 [==============================] - 3s 2ms/step - loss: 0.2780 - accuracy: 0.9026\n",
      "Epoch 11/20\n",
      "1500/1500 [==============================] - 2s 2ms/step - loss: 0.2688 - accuracy: 0.9068\n",
      "Epoch 12/20\n",
      "1500/1500 [==============================] - 3s 2ms/step - loss: 0.2652 - accuracy: 0.9076\n",
      "Epoch 13/20\n",
      "1500/1500 [==============================] - 3s 2ms/step - loss: 0.2608 - accuracy: 0.9105\n",
      "Epoch 14/20\n",
      "1500/1500 [==============================] - 4s 3ms/step - loss: 0.2542 - accuracy: 0.9115\n",
      "Epoch 15/20\n",
      "1500/1500 [==============================] - 4s 3ms/step - loss: 0.2495 - accuracy: 0.9136\n",
      "Epoch 16/20\n",
      "1500/1500 [==============================] - 4s 3ms/step - loss: 0.2470 - accuracy: 0.9150\n",
      "Epoch 17/20\n",
      "1500/1500 [==============================] - 4s 2ms/step - loss: 0.2436 - accuracy: 0.9178\n",
      "Epoch 18/20\n",
      "1500/1500 [==============================] - 4s 2ms/step - loss: 0.2386 - accuracy: 0.9180\n",
      "Epoch 19/20\n",
      "1500/1500 [==============================] - 4s 3ms/step - loss: 0.2327 - accuracy: 0.9208\n",
      "Epoch 20/20\n",
      "1500/1500 [==============================] - 4s 3ms/step - loss: 0.2318 - accuracy: 0.9217\n"
     ]
    }
   ],
   "source": [
    "model = model_fn()\n",
    "model.compile(loss='sparse_categorical_crossentropy', metrics='accuracy')\n",
    "history = model.fit(train_scaled, train_target, epochs=20)"
   ]
  },
  {
   "cell_type": "code",
   "execution_count": 32,
   "metadata": {},
   "outputs": [
    {
     "data": {
      "image/png": "[encoded data removed]",
      "text/plain": [
       "<Figure size 720x360 with 1 Axes>"
      ]
     },
     "metadata": {
      "needs_background": "light"
     },
     "output_type": "display_data"
    }
   ],
   "source": [
    "plt.figure(figsize=(10,5))\n",
    "plt.plot(history.history['loss'])\n",
    "plt.plot(history.history['accuracy'])\n",
    "# plt.title('정확도')\n",
    "plt.xlabel('에포크(훈련횟수)')\n",
    "plt.ylabel('val')\n",
    "plt.show()"
   ]
  },
  {
   "cell_type": "markdown",
   "metadata": {},
   "source": [
    "#### 검증손실\n",
    "\n",
    "훈련세트 훈련 -> 정확도 92%"
   ]
  },
  {
   "cell_type": "code",
   "execution_count": 33,
   "metadata": {},
   "outputs": [
    {
     "name": "stdout",
     "output_type": "stream",
     "text": [
      "Epoch 1/20\n",
      "1500/1500 [==============================] - 3s 2ms/step - loss: 0.5320 - accuracy: 0.8113 - val_loss: 0.4199 - val_accuracy: 0.8497\n",
      "Epoch 2/20\n",
      "1500/1500 [==============================] - 3s 2ms/step - loss: 0.3914 - accuracy: 0.8607 - val_loss: 0.3856 - val_accuracy: 0.8657\n",
      "Epoch 3/20\n",
      "1500/1500 [==============================] - 3s 2ms/step - loss: 0.3543 - accuracy: 0.8711 - val_loss: 0.3773 - val_accuracy: 0.8742\n",
      "Epoch 4/20\n",
      "1500/1500 [==============================] - 4s 3ms/step - loss: 0.3340 - accuracy: 0.8811 - val_loss: 0.3607 - val_accuracy: 0.8742\n",
      "Epoch 5/20\n",
      "1500/1500 [==============================] - 4s 3ms/step - loss: 0.3198 - accuracy: 0.8851 - val_loss: 0.4084 - val_accuracy: 0.8606\n",
      "Epoch 6/20\n",
      "1500/1500 [==============================] - 4s 3ms/step - loss: 0.3105 - accuracy: 0.8885 - val_loss: 0.3752 - val_accuracy: 0.8766\n",
      "Epoch 7/20\n",
      "1500/1500 [==============================] - 3s 2ms/step - loss: 0.3004 - accuracy: 0.8919 - val_loss: 0.3811 - val_accuracy: 0.8731\n",
      "Epoch 8/20\n",
      "1500/1500 [==============================] - 3s 2ms/step - loss: 0.2913 - accuracy: 0.8971 - val_loss: 0.3547 - val_accuracy: 0.8829\n",
      "Epoch 9/20\n",
      "1500/1500 [==============================] - 3s 2ms/step - loss: 0.2814 - accuracy: 0.8996 - val_loss: 0.3883 - val_accuracy: 0.8853\n",
      "Epoch 10/20\n",
      "1500/1500 [==============================] - 3s 2ms/step - loss: 0.2781 - accuracy: 0.9041 - val_loss: 0.4062 - val_accuracy: 0.8731\n",
      "Epoch 11/20\n",
      "1500/1500 [==============================] - 3s 2ms/step - loss: 0.2716 - accuracy: 0.9053 - val_loss: 0.4286 - val_accuracy: 0.8737\n",
      "Epoch 12/20\n",
      "1500/1500 [==============================] - 3s 2ms/step - loss: 0.2663 - accuracy: 0.9068 - val_loss: 0.3720 - val_accuracy: 0.8857\n",
      "Epoch 13/20\n",
      "1500/1500 [==============================] - 3s 2ms/step - loss: 0.2605 - accuracy: 0.9113 - val_loss: 0.3976 - val_accuracy: 0.8866\n",
      "Epoch 14/20\n",
      "1500/1500 [==============================] - 3s 2ms/step - loss: 0.2551 - accuracy: 0.9122 - val_loss: 0.4101 - val_accuracy: 0.8813\n",
      "Epoch 15/20\n",
      "1500/1500 [==============================] - 3s 2ms/step - loss: 0.2505 - accuracy: 0.9141 - val_loss: 0.4174 - val_accuracy: 0.8828\n",
      "Epoch 16/20\n",
      "1500/1500 [==============================] - 3s 2ms/step - loss: 0.2447 - accuracy: 0.9139 - val_loss: 0.4403 - val_accuracy: 0.8763\n",
      "Epoch 17/20\n",
      "1500/1500 [==============================] - 3s 2ms/step - loss: 0.2405 - accuracy: 0.9175 - val_loss: 0.4412 - val_accuracy: 0.8843\n",
      "Epoch 18/20\n",
      "1500/1500 [==============================] - 3s 2ms/step - loss: 0.2391 - accuracy: 0.9186 - val_loss: 0.4749 - val_accuracy: 0.8776\n",
      "Epoch 19/20\n",
      "1500/1500 [==============================] - 3s 2ms/step - loss: 0.2332 - accuracy: 0.9216 - val_loss: 0.4184 - val_accuracy: 0.8861\n",
      "Epoch 20/20\n",
      "1500/1500 [==============================] - 3s 2ms/step - loss: 0.2298 - accuracy: 0.9229 - val_loss: 0.4539 - val_accuracy: 0.8830\n"
     ]
    }
   ],
   "source": [
    "model = model_fn()\n",
    "model.compile(loss='sparse_categorical_crossentropy', metrics='accuracy')\n",
    "history = model.fit(train_scaled, train_target, epochs=20,\n",
    "                    validation_data=(val_scaled, val_target))\n"
   ]
  },
  {
   "cell_type": "code",
   "execution_count": 35,
   "metadata": {},
   "outputs": [
    {
     "data": {
      "text/plain": [
       "dict_keys(['loss', 'accuracy', 'val_loss', 'val_accuracy'])"
      ]
     },
     "execution_count": 35,
     "metadata": {},
     "output_type": "execute_result"
    }
   ],
   "source": [
    "history.history.keys()"
   ]
  },
  {
   "cell_type": "markdown",
   "metadata": {},
   "source": [
    "#### 훈련세트/검증세트 비교"
   ]
  },
  {
   "cell_type": "code",
   "execution_count": 36,
   "metadata": {},
   "outputs": [
    {
     "data": {
      "image/png": "[encoded data removed]",
      "text/plain": [
       "<Figure size 720x360 with 1 Axes>"
      ]
     },
     "metadata": {
      "needs_background": "light"
     },
     "output_type": "display_data"
    }
   ],
   "source": [
    "plt.figure(figsize=(10,5))\n",
    "plt.plot(history.history['loss'])\n",
    "plt.plot(history.history['val_loss'])\n",
    "plt.title('손실곡선')\n",
    "plt.xlabel('에포크')\n",
    "plt.ylabel('손실값')\n",
    "plt.legend(['훈련','검증'])\n",
    "plt.show()"
   ]
  },
  {
   "cell_type": "markdown",
   "metadata": {},
   "source": [
    "#### 드롭아웃"
   ]
  },
  {
   "cell_type": "code",
   "execution_count": 37,
   "metadata": {},
   "outputs": [
    {
     "name": "stdout",
     "output_type": "stream",
     "text": [
      "Model: \"model_fn_MakeModel\"\n",
      "_________________________________________________________________\n",
      " Layer (type)                Output Shape              Param #   \n",
      "=================================================================\n",
      " flatten_8 (Flatten)         (None, 784)               0         \n",
      "                                                                 \n",
      " hidden (Dense)              (None, 100)               78500     \n",
      "                                                                 \n",
      " dropout (Dropout)           (None, 100)               0         \n",
      "                                                                 \n",
      " output (Dense)              (None, 10)                1010      \n",
      "                                                                 \n",
      "=================================================================\n",
      "Total params: 79,510\n",
      "Trainable params: 79,510\n",
      "Non-trainable params: 0\n",
      "_________________________________________________________________\n"
     ]
    }
   ],
   "source": [
    "model = model_fn(keras.layers.Dropout(0.3))\n",
    "model.summary()"
   ]
  },
  {
   "cell_type": "code",
   "execution_count": 38,
   "metadata": {},
   "outputs": [
    {
     "name": "stdout",
     "output_type": "stream",
     "text": [
      "Epoch 1/20\n",
      "1500/1500 [==============================] - 3s 2ms/step - loss: 0.5867 - accuracy: 0.7946 - val_loss: 0.4567 - val_accuracy: 0.8388\n",
      "Epoch 2/20\n",
      "1500/1500 [==============================] - 3s 2ms/step - loss: 0.4493 - accuracy: 0.8408 - val_loss: 0.4150 - val_accuracy: 0.8512\n",
      "Epoch 3/20\n",
      "1500/1500 [==============================] - 3s 2ms/step - loss: 0.4228 - accuracy: 0.8535 - val_loss: 0.4031 - val_accuracy: 0.8522\n",
      "Epoch 4/20\n",
      "1500/1500 [==============================] - 3s 2ms/step - loss: 0.4062 - accuracy: 0.8600 - val_loss: 0.3928 - val_accuracy: 0.8627\n",
      "Epoch 5/20\n",
      "1500/1500 [==============================] - 3s 2ms/step - loss: 0.3984 - accuracy: 0.8655 - val_loss: 0.3746 - val_accuracy: 0.8749\n",
      "Epoch 6/20\n",
      "1500/1500 [==============================] - 3s 2ms/step - loss: 0.3948 - accuracy: 0.8662 - val_loss: 0.3854 - val_accuracy: 0.8769\n",
      "Epoch 7/20\n",
      "1500/1500 [==============================] - 3s 2ms/step - loss: 0.3890 - accuracy: 0.8701 - val_loss: 0.3940 - val_accuracy: 0.8738\n",
      "Epoch 8/20\n",
      "1500/1500 [==============================] - 3s 2ms/step - loss: 0.3867 - accuracy: 0.8730 - val_loss: 0.3899 - val_accuracy: 0.8741\n",
      "Epoch 9/20\n",
      "1500/1500 [==============================] - 3s 2ms/step - loss: 0.3832 - accuracy: 0.8745 - val_loss: 0.4352 - val_accuracy: 0.8662\n",
      "Epoch 10/20\n",
      "1500/1500 [==============================] - 3s 2ms/step - loss: 0.3777 - accuracy: 0.8748 - val_loss: 0.4095 - val_accuracy: 0.8734\n",
      "Epoch 11/20\n",
      "1500/1500 [==============================] - 3s 2ms/step - loss: 0.3777 - accuracy: 0.8766 - val_loss: 0.4082 - val_accuracy: 0.8735\n",
      "Epoch 12/20\n",
      "1500/1500 [==============================] - 3s 2ms/step - loss: 0.3733 - accuracy: 0.8765 - val_loss: 0.3983 - val_accuracy: 0.8806\n",
      "Epoch 13/20\n",
      "1500/1500 [==============================] - 3s 2ms/step - loss: 0.3744 - accuracy: 0.8777 - val_loss: 0.4020 - val_accuracy: 0.8796\n",
      "Epoch 14/20\n",
      "1500/1500 [==============================] - 3s 2ms/step - loss: 0.3724 - accuracy: 0.8787 - val_loss: 0.4269 - val_accuracy: 0.8767\n",
      "Epoch 15/20\n",
      "1500/1500 [==============================] - 3s 2ms/step - loss: 0.3750 - accuracy: 0.8807 - val_loss: 0.4520 - val_accuracy: 0.8716\n",
      "Epoch 16/20\n",
      "1500/1500 [==============================] - 4s 3ms/step - loss: 0.3686 - accuracy: 0.8813 - val_loss: 0.4359 - val_accuracy: 0.8780\n",
      "Epoch 17/20\n",
      "1500/1500 [==============================] - 4s 3ms/step - loss: 0.3706 - accuracy: 0.8809 - val_loss: 0.4248 - val_accuracy: 0.8825\n",
      "Epoch 18/20\n",
      "1500/1500 [==============================] - 4s 3ms/step - loss: 0.3741 - accuracy: 0.8816 - val_loss: 0.4409 - val_accuracy: 0.8760\n",
      "Epoch 19/20\n",
      "1500/1500 [==============================] - 4s 3ms/step - loss: 0.3716 - accuracy: 0.8840 - val_loss: 0.4459 - val_accuracy: 0.8792\n",
      "Epoch 20/20\n",
      "1500/1500 [==============================] - 4s 3ms/step - loss: 0.3703 - accuracy: 0.8844 - val_loss: 0.4659 - val_accuracy: 0.8799\n"
     ]
    }
   ],
   "source": [
    "model.compile(loss='sparse_categorical_crossentropy', metrics='accuracy')\n",
    "history = model.fit(train_scaled, train_target, epochs=20,\n",
    "                    validation_data=(val_scaled, val_target))"
   ]
  },
  {
   "cell_type": "code",
   "execution_count": 39,
   "metadata": {},
   "outputs": [
    {
     "data": {
      "image/png": "[encoded data removed]",
      "text/plain": [
       "<Figure size 720x360 with 1 Axes>"
      ]
     },
     "metadata": {
      "needs_background": "light"
     },
     "output_type": "display_data"
    }
   ],
   "source": [
    "plt.figure(figsize=(10,5))\n",
    "plt.plot(history.history['loss'])\n",
    "plt.plot(history.history['val_loss'])\n",
    "plt.title('손실곡선')\n",
    "plt.xlabel('에포크')\n",
    "plt.ylabel('손실값')\n",
    "plt.legend(['훈련','검증'])\n",
    "plt.show()"
   ]
  },
  {
   "cell_type": "code",
   "execution_count": 40,
   "metadata": {},
   "outputs": [
    {
     "name": "stdout",
     "output_type": "stream",
     "text": [
      "Epoch 1/20\n",
      "1500/1500 [==============================] - 3s 2ms/step - loss: 0.3672 - accuracy: 0.8755 - val_loss: 0.3944 - val_accuracy: 0.8753\n",
      "Epoch 2/20\n",
      "1500/1500 [==============================] - 3s 2ms/step - loss: 0.3436 - accuracy: 0.8796 - val_loss: 0.4003 - val_accuracy: 0.8737\n",
      "Epoch 3/20\n",
      "1500/1500 [==============================] - 3s 2ms/step - loss: 0.3349 - accuracy: 0.8798 - val_loss: 0.3774 - val_accuracy: 0.8821\n",
      "Epoch 4/20\n",
      "1500/1500 [==============================] - 3s 2ms/step - loss: 0.3273 - accuracy: 0.8802 - val_loss: 0.3758 - val_accuracy: 0.8765\n",
      "Epoch 5/20\n",
      "1500/1500 [==============================] - 3s 2ms/step - loss: 0.3176 - accuracy: 0.8830 - val_loss: 0.3668 - val_accuracy: 0.8776\n",
      "Epoch 6/20\n",
      "1500/1500 [==============================] - 3s 2ms/step - loss: 0.3103 - accuracy: 0.8852 - val_loss: 0.3602 - val_accuracy: 0.8827\n",
      "Epoch 7/20\n",
      "1500/1500 [==============================] - 3s 2ms/step - loss: 0.3051 - accuracy: 0.8870 - val_loss: 0.3669 - val_accuracy: 0.8813\n",
      "Epoch 8/20\n",
      "1500/1500 [==============================] - 3s 2ms/step - loss: 0.2982 - accuracy: 0.8895 - val_loss: 0.3869 - val_accuracy: 0.8763\n",
      "Epoch 9/20\n",
      "1500/1500 [==============================] - 3s 2ms/step - loss: 0.3001 - accuracy: 0.8890 - val_loss: 0.3693 - val_accuracy: 0.8820\n",
      "Epoch 10/20\n",
      "1500/1500 [==============================] - 3s 2ms/step - loss: 0.2904 - accuracy: 0.8915 - val_loss: 0.3760 - val_accuracy: 0.8787\n",
      "Epoch 11/20\n",
      "1500/1500 [==============================] - 3s 2ms/step - loss: 0.2896 - accuracy: 0.8918 - val_loss: 0.3622 - val_accuracy: 0.8849\n",
      "Epoch 12/20\n",
      "1500/1500 [==============================] - 3s 2ms/step - loss: 0.2831 - accuracy: 0.8940 - val_loss: 0.3586 - val_accuracy: 0.8827\n",
      "Epoch 13/20\n",
      "1500/1500 [==============================] - 3s 2ms/step - loss: 0.2831 - accuracy: 0.8941 - val_loss: 0.3573 - val_accuracy: 0.8847\n",
      "Epoch 14/20\n",
      "1500/1500 [==============================] - 3s 2ms/step - loss: 0.2809 - accuracy: 0.8950 - val_loss: 0.3805 - val_accuracy: 0.8820\n",
      "Epoch 15/20\n",
      "1500/1500 [==============================] - 3s 2ms/step - loss: 0.2748 - accuracy: 0.8983 - val_loss: 0.3729 - val_accuracy: 0.8861\n",
      "Epoch 16/20\n",
      "1500/1500 [==============================] - 3s 2ms/step - loss: 0.2732 - accuracy: 0.8976 - val_loss: 0.3647 - val_accuracy: 0.8844\n",
      "Epoch 17/20\n",
      "1500/1500 [==============================] - 3s 2ms/step - loss: 0.2698 - accuracy: 0.8968 - val_loss: 0.3641 - val_accuracy: 0.8897\n",
      "Epoch 18/20\n",
      "1500/1500 [==============================] - 3s 2ms/step - loss: 0.2652 - accuracy: 0.8995 - val_loss: 0.3657 - val_accuracy: 0.8860\n",
      "Epoch 19/20\n",
      "1500/1500 [==============================] - 3s 2ms/step - loss: 0.2669 - accuracy: 0.8982 - val_loss: 0.3843 - val_accuracy: 0.8809\n",
      "Epoch 20/20\n",
      "1500/1500 [==============================] - 3s 2ms/step - loss: 0.2639 - accuracy: 0.8997 - val_loss: 0.3569 - val_accuracy: 0.8878\n"
     ]
    }
   ],
   "source": [
    "model.compile(loss='sparse_categorical_crossentropy', metrics='accuracy',optimizer='adam')\n",
    "history = model.fit(train_scaled, train_target, epochs=20,\n",
    "                    validation_data=(val_scaled, val_target))"
   ]
  },
  {
   "cell_type": "markdown",
   "metadata": {},
   "source": [
    "#### NPU(Neural Processing Unit) : 신경망 처리 장치. 연산을 고속으로 처리하기 위하여 개발한 장치\n",
    "#### TPU(Tensor Processing Unit) : 구글에서 딥러닝을 위해 만든 NPU"
   ]
  },
  {
   "cell_type": "markdown",
   "metadata": {},
   "source": [
    "#### 모델 저장/로드"
   ]
  },
  {
   "cell_type": "code",
   "execution_count": 42,
   "metadata": {},
   "outputs": [
    {
     "name": "stdout",
     "output_type": "stream",
     "text": [
      "Model: \"model_fn_MakeModel\"\n",
      "_________________________________________________________________\n",
      " Layer (type)                Output Shape              Param #   \n",
      "=================================================================\n",
      " flatten_8 (Flatten)         (None, 784)               0         \n",
      "                                                                 \n",
      " hidden (Dense)              (None, 100)               78500     \n",
      "                                                                 \n",
      " dropout (Dropout)           (None, 100)               0         \n",
      "                                                                 \n",
      " output (Dense)              (None, 10)                1010      \n",
      "                                                                 \n",
      "=================================================================\n",
      "Total params: 79,510\n",
      "Trainable params: 79,510\n",
      "Non-trainable params: 0\n",
      "_________________________________________________________________\n"
     ]
    }
   ],
   "source": [
    "model.summary()"
   ]
  },
  {
   "cell_type": "code",
   "execution_count": 43,
   "metadata": {},
   "outputs": [],
   "source": [
    "# 훈련된 가중치만 저장\n",
    "model.save_weights('./data/model_weights.h5')"
   ]
  },
  {
   "cell_type": "code",
   "execution_count": 44,
   "metadata": {},
   "outputs": [],
   "source": [
    "# 훈련된 전체데이터 저장\n",
    "model.save('./data/model.h5')"
   ]
  },
  {
   "cell_type": "markdown",
   "metadata": {},
   "source": [
    "#### 가중치 모델 로드"
   ]
  },
  {
   "cell_type": "code",
   "execution_count": 45,
   "metadata": {},
   "outputs": [],
   "source": [
    "model = model_fn(keras.layers.Dropout(0.3))\n",
    "model.load_weights('./data/model_weights.h5')"
   ]
  },
  {
   "cell_type": "code",
   "execution_count": 46,
   "metadata": {},
   "outputs": [
    {
     "ename": "RuntimeError",
     "evalue": "You must compile your model before training/testing. Use `model.compile(optimizer, loss)`.",
     "output_type": "error",
     "traceback": [
      "\u001b[1;31m---------------------------------------------------------------------------\u001b[0m",
      "\u001b[1;31mRuntimeError\u001b[0m                              Traceback (most recent call last)",
      "\u001b[1;32mc:\\localRepository\\StudyML\\day05\\07_3신경망모델훈련.ipynb 셀 46\u001b[0m in \u001b[0;36m<cell line: 2>\u001b[1;34m()\u001b[0m\n\u001b[0;32m      <a href='vscode-notebook-cell:/c%3A/localRepository/StudyML/day05/07_3%EC%8B%A0%EA%B2%BD%EB%A7%9D%EB%AA%A8%EB%8D%B8%ED%9B%88%EB%A0%A8.ipynb#Y136sZmlsZQ%3D%3D?line=0'>1</a>\u001b[0m \u001b[39m# 가중치를 불러왔기 때문에 evaluate 안됨\u001b[39;00m\n\u001b[1;32m----> <a href='vscode-notebook-cell:/c%3A/localRepository/StudyML/day05/07_3%EC%8B%A0%EA%B2%BD%EB%A7%9D%EB%AA%A8%EB%8D%B8%ED%9B%88%EB%A0%A8.ipynb#Y136sZmlsZQ%3D%3D?line=1'>2</a>\u001b[0m model\u001b[39m.\u001b[39;49mevaluate(val_scaled, val_target)\n",
      "File \u001b[1;32m~\\AppData\\Local\\Packages\\PythonSoftwareFoundation.Python.3.10_qbz5n2kfra8p0\\LocalCache\\local-packages\\Python310\\site-packages\\keras\\utils\\traceback_utils.py:67\u001b[0m, in \u001b[0;36mfilter_traceback.<locals>.error_handler\u001b[1;34m(*args, **kwargs)\u001b[0m\n\u001b[0;32m     65\u001b[0m \u001b[39mexcept\u001b[39;00m \u001b[39mException\u001b[39;00m \u001b[39mas\u001b[39;00m e:  \u001b[39m# pylint: disable=broad-except\u001b[39;00m\n\u001b[0;32m     66\u001b[0m   filtered_tb \u001b[39m=\u001b[39m _process_traceback_frames(e\u001b[39m.\u001b[39m__traceback__)\n\u001b[1;32m---> 67\u001b[0m   \u001b[39mraise\u001b[39;00m e\u001b[39m.\u001b[39mwith_traceback(filtered_tb) \u001b[39mfrom\u001b[39;00m \u001b[39mNone\u001b[39m\n\u001b[0;32m     68\u001b[0m \u001b[39mfinally\u001b[39;00m:\n\u001b[0;32m     69\u001b[0m   \u001b[39mdel\u001b[39;00m filtered_tb\n",
      "File \u001b[1;32m~\\AppData\\Local\\Packages\\PythonSoftwareFoundation.Python.3.10_qbz5n2kfra8p0\\LocalCache\\local-packages\\Python310\\site-packages\\keras\\engine\\training.py:3160\u001b[0m, in \u001b[0;36mModel._assert_compile_was_called\u001b[1;34m(self)\u001b[0m\n\u001b[0;32m   3154\u001b[0m \u001b[39mdef\u001b[39;00m \u001b[39m_assert_compile_was_called\u001b[39m(\u001b[39mself\u001b[39m):\n\u001b[0;32m   3155\u001b[0m   \u001b[39m# Checks whether `compile` has been called. If it has been called,\u001b[39;00m\n\u001b[0;32m   3156\u001b[0m   \u001b[39m# then the optimizer is set. This is different from whether the\u001b[39;00m\n\u001b[0;32m   3157\u001b[0m   \u001b[39m# model is compiled\u001b[39;00m\n\u001b[0;32m   3158\u001b[0m   \u001b[39m# (i.e. whether the model is built and its inputs/outputs are set).\u001b[39;00m\n\u001b[0;32m   3159\u001b[0m   \u001b[39mif\u001b[39;00m \u001b[39mnot\u001b[39;00m \u001b[39mself\u001b[39m\u001b[39m.\u001b[39m_is_compiled:\n\u001b[1;32m-> 3160\u001b[0m     \u001b[39mraise\u001b[39;00m \u001b[39mRuntimeError\u001b[39;00m(\u001b[39m'\u001b[39m\u001b[39mYou must compile your model before \u001b[39m\u001b[39m'\u001b[39m\n\u001b[0;32m   3161\u001b[0m                        \u001b[39m'\u001b[39m\u001b[39mtraining/testing. \u001b[39m\u001b[39m'\u001b[39m\n\u001b[0;32m   3162\u001b[0m                        \u001b[39m'\u001b[39m\u001b[39mUse `model.compile(optimizer, loss)`.\u001b[39m\u001b[39m'\u001b[39m)\n",
      "\u001b[1;31mRuntimeError\u001b[0m: You must compile your model before training/testing. Use `model.compile(optimizer, loss)`."
     ]
    }
   ],
   "source": [
    "# 가중치를 불러왔기 때문에 evaluate 안됨\n",
    "model.evaluate(val_scaled, val_target)"
   ]
  },
  {
   "cell_type": "markdown",
   "metadata": {},
   "source": [
    "#### 전체모델 로드"
   ]
  },
  {
   "cell_type": "code",
   "execution_count": 47,
   "metadata": {},
   "outputs": [
    {
     "name": "stdout",
     "output_type": "stream",
     "text": [
      "375/375 [==============================] - 1s 1ms/step - loss: 0.3569 - accuracy: 0.8878\n"
     ]
    },
    {
     "data": {
      "text/plain": [
       "[0.3569483757019043, 0.8878333568572998]"
      ]
     },
     "execution_count": 47,
     "metadata": {},
     "output_type": "execute_result"
    }
   ],
   "source": [
    "model = keras.models.load_model('./data/model.h5')\n",
    "model.evaluate(val_scaled, val_target)"
   ]
  },
  {
   "cell_type": "markdown",
   "metadata": {},
   "source": [
    "가중치만 저장하면 모델 기능 제약있음. 모델 전체 데이터 저장하면 모든 기능 수행 가능"
   ]
  },
  {
   "cell_type": "code",
   "execution_count": 48,
   "metadata": {},
   "outputs": [
    {
     "name": "stdout",
     "output_type": "stream",
     "text": [
      "375/375 [==============================] - 0s 1ms/step\n"
     ]
    },
    {
     "data": {
      "text/plain": [
       "array([[4.28617261e-31, 0.00000000e+00, 2.75525678e-32, ...,\n",
       "        1.06117372e-23, 1.00000000e+00, 1.87069901e-30],\n",
       "       [2.75240165e-23, 6.30411131e-37, 9.60906597e-22, ...,\n",
       "        1.38982610e-21, 1.00000000e+00, 3.51963024e-19],\n",
       "       [6.96089476e-27, 1.80176185e-26, 2.12774168e-37, ...,\n",
       "        9.99979734e-01, 2.85550688e-17, 4.13478540e-09],\n",
       "       ...,\n",
       "       [5.79781177e-15, 4.37893952e-30, 1.68344609e-16, ...,\n",
       "        3.69539299e-15, 1.00000000e+00, 5.94014177e-14],\n",
       "       [6.21012024e-21, 0.00000000e+00, 2.17532222e-28, ...,\n",
       "        1.88059124e-26, 1.00000000e+00, 1.19472645e-23],\n",
       "       [3.67835224e-01, 5.81769280e-16, 7.20899288e-06, ...,\n",
       "        6.42342446e-03, 6.13842532e-10, 5.98757029e-01]], dtype=float32)"
      ]
     },
     "execution_count": 48,
     "metadata": {},
     "output_type": "execute_result"
    }
   ],
   "source": [
    "model.predict(val_scaled)"
   ]
  },
  {
   "cell_type": "code",
   "execution_count": 49,
   "metadata": {},
   "outputs": [
    {
     "name": "stdout",
     "output_type": "stream",
     "text": [
      "375/375 [==============================] - 0s 1ms/step\n"
     ]
    },
    {
     "data": {
      "text/plain": [
       "0.8878333333333334"
      ]
     },
     "execution_count": 49,
     "metadata": {},
     "output_type": "execute_result"
    }
   ],
   "source": [
    "# 예측결과\n",
    "val_labels = np.argmax(model.predict(val_scaled), axis=-1)\n",
    "np.mean(val_labels == val_target)"
   ]
  },
  {
   "cell_type": "code",
   "execution_count": 50,
   "metadata": {},
   "outputs": [
    {
     "data": {
      "text/plain": [
       "(12000,)"
      ]
     },
     "execution_count": 50,
     "metadata": {},
     "output_type": "execute_result"
    }
   ],
   "source": [
    "val_labels.shape"
   ]
  },
  {
   "cell_type": "code",
   "execution_count": 51,
   "metadata": {},
   "outputs": [
    {
     "data": {
      "text/plain": [
       "array([8, 8, 7, ..., 8, 8, 9], dtype=int64)"
      ]
     },
     "execution_count": 51,
     "metadata": {},
     "output_type": "execute_result"
    }
   ],
   "source": [
    "val_labels"
   ]
  },
  {
   "cell_type": "markdown",
   "metadata": {},
   "source": [
    "#### 콜백 Callback"
   ]
  },
  {
   "cell_type": "code",
   "execution_count": 52,
   "metadata": {},
   "outputs": [
    {
     "name": "stdout",
     "output_type": "stream",
     "text": [
      "Epoch 1/20\n",
      "1500/1500 [==============================] - 3s 2ms/step - loss: 0.5925 - accuracy: 0.7929 - val_loss: 0.4299 - val_accuracy: 0.8440\n",
      "Epoch 2/20\n",
      "1500/1500 [==============================] - 3s 2ms/step - loss: 0.4410 - accuracy: 0.8408 - val_loss: 0.3861 - val_accuracy: 0.8615\n",
      "Epoch 3/20\n",
      "1500/1500 [==============================] - 3s 2ms/step - loss: 0.4039 - accuracy: 0.8538 - val_loss: 0.3991 - val_accuracy: 0.8575\n",
      "Epoch 4/20\n",
      "1500/1500 [==============================] - 4s 3ms/step - loss: 0.3824 - accuracy: 0.8600 - val_loss: 0.3493 - val_accuracy: 0.8728\n",
      "Epoch 5/20\n",
      "1500/1500 [==============================] - 4s 3ms/step - loss: 0.3639 - accuracy: 0.8650 - val_loss: 0.3451 - val_accuracy: 0.8752\n",
      "Epoch 6/20\n",
      "1500/1500 [==============================] - 4s 3ms/step - loss: 0.3526 - accuracy: 0.8710 - val_loss: 0.3414 - val_accuracy: 0.8738\n",
      "Epoch 7/20\n",
      "1500/1500 [==============================] - 5s 3ms/step - loss: 0.3431 - accuracy: 0.8730 - val_loss: 0.3436 - val_accuracy: 0.8737\n",
      "Epoch 8/20\n",
      "1500/1500 [==============================] - 4s 3ms/step - loss: 0.3323 - accuracy: 0.8760 - val_loss: 0.3337 - val_accuracy: 0.8752\n",
      "Epoch 9/20\n",
      "1500/1500 [==============================] - 4s 3ms/step - loss: 0.3265 - accuracy: 0.8793 - val_loss: 0.3337 - val_accuracy: 0.8769\n",
      "Epoch 10/20\n",
      "1500/1500 [==============================] - 4s 3ms/step - loss: 0.3201 - accuracy: 0.8812 - val_loss: 0.3440 - val_accuracy: 0.8737\n",
      "Epoch 11/20\n",
      "1500/1500 [==============================] - 4s 2ms/step - loss: 0.3127 - accuracy: 0.8835 - val_loss: 0.3202 - val_accuracy: 0.8848\n",
      "Epoch 12/20\n",
      "1500/1500 [==============================] - 4s 3ms/step - loss: 0.3073 - accuracy: 0.8854 - val_loss: 0.3267 - val_accuracy: 0.8833\n",
      "Epoch 13/20\n",
      "1500/1500 [==============================] - 4s 3ms/step - loss: 0.3028 - accuracy: 0.8868 - val_loss: 0.3276 - val_accuracy: 0.8817\n",
      "Epoch 14/20\n",
      "1500/1500 [==============================] - 4s 3ms/step - loss: 0.2997 - accuracy: 0.8863 - val_loss: 0.3198 - val_accuracy: 0.8814\n",
      "Epoch 15/20\n",
      "1500/1500 [==============================] - 4s 2ms/step - loss: 0.2962 - accuracy: 0.8895 - val_loss: 0.3333 - val_accuracy: 0.8841\n",
      "Epoch 16/20\n",
      "1500/1500 [==============================] - 4s 3ms/step - loss: 0.2919 - accuracy: 0.8896 - val_loss: 0.3190 - val_accuracy: 0.8857\n",
      "Epoch 17/20\n",
      "1500/1500 [==============================] - 4s 3ms/step - loss: 0.2853 - accuracy: 0.8933 - val_loss: 0.3245 - val_accuracy: 0.8882\n",
      "Epoch 18/20\n",
      "1500/1500 [==============================] - 4s 3ms/step - loss: 0.2849 - accuracy: 0.8931 - val_loss: 0.3206 - val_accuracy: 0.8846\n",
      "Epoch 19/20\n",
      "1500/1500 [==============================] - 4s 3ms/step - loss: 0.2777 - accuracy: 0.8942 - val_loss: 0.3306 - val_accuracy: 0.8827\n",
      "Epoch 20/20\n",
      "1500/1500 [==============================] - 4s 3ms/step - loss: 0.2782 - accuracy: 0.8949 - val_loss: 0.3226 - val_accuracy: 0.8889\n"
     ]
    },
    {
     "data": {
      "text/plain": [
       "<keras.callbacks.History at 0x2842050c790>"
      ]
     },
     "execution_count": 52,
     "metadata": {},
     "output_type": "execute_result"
    }
   ],
   "source": [
    "model = model_fn(keras.layers.Dropout(0.3))\n",
    "model.compile(loss='sparse_categorical_crossentropy', metrics='accuracy',optimizer='adam')\n",
    "# 베스트 모델을 저장할 콜백\n",
    "checkpoint_cb = keras.callbacks.ModelCheckpoint('./data/best_model.h5')\n",
    "model.fit(train_scaled, train_target, epochs=20, verbose=1, validation_data=(val_scaled, val_target),\n",
    "          callbacks=[checkpoint_cb])"
   ]
  },
  {
   "cell_type": "code",
   "execution_count": 53,
   "metadata": {},
   "outputs": [
    {
     "name": "stdout",
     "output_type": "stream",
     "text": [
      "375/375 [==============================] - 1s 1ms/step - loss: 0.3226 - accuracy: 0.8889\n"
     ]
    },
    {
     "data": {
      "text/plain": [
       "[0.3226136565208435, 0.8889166712760925]"
      ]
     },
     "execution_count": 53,
     "metadata": {},
     "output_type": "execute_result"
    }
   ],
   "source": [
    "# 체크포인트 확인\n",
    "model = keras.models.load_model('./data/best_model.h5')\n",
    "model.evaluate(val_scaled, val_target)"
   ]
  },
  {
   "cell_type": "markdown",
   "metadata": {},
   "source": [
    "#### 조기종료"
   ]
  },
  {
   "cell_type": "code",
   "execution_count": 64,
   "metadata": {},
   "outputs": [
    {
     "name": "stdout",
     "output_type": "stream",
     "text": [
      "Epoch 1/20\n",
      "1495/1500 [============================>.] - ETA: 0s - loss: 0.5968 - accuracy: 0.7900\n",
      "Epoch 1: val_loss improved from inf to 0.42427, saving model to ./data\\best_model2.h5\n",
      "1500/1500 [==============================] - 3s 2ms/step - loss: 0.5967 - accuracy: 0.7902 - val_loss: 0.4243 - val_accuracy: 0.8473\n",
      "Epoch 2/20\n",
      "1477/1500 [============================>.] - ETA: 0s - loss: 0.4418 - accuracy: 0.8428\n",
      "Epoch 2: val_loss improved from 0.42427 to 0.40370, saving model to ./data\\best_model2.h5\n",
      "1500/1500 [==============================] - 3s 2ms/step - loss: 0.4408 - accuracy: 0.8432 - val_loss: 0.4037 - val_accuracy: 0.8507\n",
      "Epoch 3/20\n",
      "1476/1500 [============================>.] - ETA: 0s - loss: 0.4012 - accuracy: 0.8541\n",
      "Epoch 3: val_loss improved from 0.40370 to 0.37623, saving model to ./data\\best_model2.h5\n",
      "1500/1500 [==============================] - 2s 2ms/step - loss: 0.4010 - accuracy: 0.8542 - val_loss: 0.3762 - val_accuracy: 0.8626\n",
      "Epoch 4/20\n",
      "1475/1500 [============================>.] - ETA: 0s - loss: 0.3812 - accuracy: 0.8613\n",
      "Epoch 4: val_loss improved from 0.37623 to 0.35933, saving model to ./data\\best_model2.h5\n",
      "1500/1500 [==============================] - 3s 2ms/step - loss: 0.3813 - accuracy: 0.8613 - val_loss: 0.3593 - val_accuracy: 0.8668\n",
      "Epoch 5/20\n",
      "1464/1500 [============================>.] - ETA: 0s - loss: 0.3690 - accuracy: 0.8628\n",
      "Epoch 5: val_loss improved from 0.35933 to 0.34090, saving model to ./data\\best_model2.h5\n",
      "1500/1500 [==============================] - 3s 2ms/step - loss: 0.3686 - accuracy: 0.8631 - val_loss: 0.3409 - val_accuracy: 0.8737\n",
      "Epoch 6/20\n",
      "1490/1500 [============================>.] - ETA: 0s - loss: 0.3550 - accuracy: 0.8691\n",
      "Epoch 6: val_loss did not improve from 0.34090\n",
      "1500/1500 [==============================] - 3s 2ms/step - loss: 0.3550 - accuracy: 0.8691 - val_loss: 0.3417 - val_accuracy: 0.8783\n",
      "Epoch 7/20\n",
      "1491/1500 [============================>.] - ETA: 0s - loss: 0.3418 - accuracy: 0.8746\n",
      "Epoch 7: val_loss improved from 0.34090 to 0.33470, saving model to ./data\\best_model2.h5\n",
      "1500/1500 [==============================] - 3s 2ms/step - loss: 0.3424 - accuracy: 0.8744 - val_loss: 0.3347 - val_accuracy: 0.8763\n",
      "Epoch 8/20\n",
      "1494/1500 [============================>.] - ETA: 0s - loss: 0.3322 - accuracy: 0.8769\n",
      "Epoch 8: val_loss did not improve from 0.33470\n",
      "1500/1500 [==============================] - 3s 2ms/step - loss: 0.3322 - accuracy: 0.8769 - val_loss: 0.3378 - val_accuracy: 0.8762\n",
      "Epoch 9/20\n",
      "1492/1500 [============================>.] - ETA: 0s - loss: 0.3268 - accuracy: 0.8788\n",
      "Epoch 9: val_loss improved from 0.33470 to 0.32669, saving model to ./data\\best_model2.h5\n",
      "1500/1500 [==============================] - 3s 2ms/step - loss: 0.3267 - accuracy: 0.8788 - val_loss: 0.3267 - val_accuracy: 0.8812\n",
      "Epoch 10/20\n",
      "1500/1500 [==============================] - ETA: 0s - loss: 0.3202 - accuracy: 0.8811\n",
      "Epoch 10: val_loss did not improve from 0.32669\n",
      "1500/1500 [==============================] - 3s 2ms/step - loss: 0.3202 - accuracy: 0.8811 - val_loss: 0.3355 - val_accuracy: 0.8780\n",
      "Epoch 11/20\n",
      "1486/1500 [============================>.] - ETA: 0s - loss: 0.3129 - accuracy: 0.8838\n",
      "Epoch 11: val_loss did not improve from 0.32669\n",
      "1500/1500 [==============================] - 4s 2ms/step - loss: 0.3127 - accuracy: 0.8838 - val_loss: 0.3269 - val_accuracy: 0.8805\n"
     ]
    }
   ],
   "source": [
    "model = model_fn(keras.layers.Dropout(0.3))\n",
    "model.compile(loss='sparse_categorical_crossentropy', metrics='accuracy',optimizer='adam')\n",
    "# 베스트 모델을 저장할 콜백\n",
    "# save_best_only=True 가장 좋은 모델 저장됨\n",
    "# verbose = 1는 각 에포크 마다 결과값 출력해줌\n",
    "checkpoint_cb = keras.callbacks.ModelCheckpoint('./data/best_model2.h5', save_best_only=True, verbose=1)\n",
    "early_stopping_cb = keras.callbacks.EarlyStopping(patience=2, restore_best_weights=True)\n",
    "history = model.fit(train_scaled, train_target, epochs=20, verbose=1, validation_data=(val_scaled, val_target),\n",
    "          callbacks=[checkpoint_cb, early_stopping_cb])"
   ]
  },
  {
   "cell_type": "code",
   "execution_count": 65,
   "metadata": {},
   "outputs": [
    {
     "data": {
      "image/png": "[encoded data removed]",
      "text/plain": [
       "<Figure size 720x360 with 1 Axes>"
      ]
     },
     "metadata": {
      "needs_background": "light"
     },
     "output_type": "display_data"
    }
   ],
   "source": [
    "plt.figure(figsize=(10,5))\n",
    "plt.plot(history.history['loss'])\n",
    "plt.plot(history.history['val_loss'])\n",
    "plt.title('손실곡선')\n",
    "plt.xlabel('에포크')\n",
    "plt.ylabel('손실값')\n",
    "plt.legend(['훈련','검증'])\n",
    "plt.show()"
   ]
  },
  {
   "cell_type": "code",
   "execution_count": 66,
   "metadata": {},
   "outputs": [
    {
     "data": {
      "text/plain": [
       "10"
      ]
     },
     "execution_count": 66,
     "metadata": {},
     "output_type": "execute_result"
    }
   ],
   "source": [
    "# 어느 에포크에서 조기종료했는지 확인\n",
    "early_stopping_cb.stopped_epoch # 10번째에서 멈춤(드랍아웃)"
   ]
  },
  {
   "cell_type": "code",
   "execution_count": 67,
   "metadata": {},
   "outputs": [
    {
     "name": "stdout",
     "output_type": "stream",
     "text": [
      "375/375 [==============================] - 0s 1ms/step - loss: 0.3267 - accuracy: 0.8812\n"
     ]
    },
    {
     "data": {
      "text/plain": [
       "[0.3266941010951996, 0.8811666369438171]"
      ]
     },
     "execution_count": 67,
     "metadata": {},
     "output_type": "execute_result"
    }
   ],
   "source": [
    "model.evaluate(val_scaled,val_target) # 9번째 에포크 값이 평가됨"
   ]
  },
  {
   "cell_type": "code",
   "execution_count": 61,
   "metadata": {},
   "outputs": [],
   "source": [
    "# 최종값 저장\n",
    "model.save('./data/best_model_epoch12.h5')"
   ]
  },
  {
   "cell_type": "markdown",
   "metadata": {},
   "source": [
    "### 조기종료된 모델 저장값 / 체크포인트로 저장된 모델 저장값 비교"
   ]
  },
  {
   "cell_type": "code",
   "execution_count": 68,
   "metadata": {},
   "outputs": [
    {
     "name": "stdout",
     "output_type": "stream",
     "text": [
      "375/375 [==============================] - 0s 1ms/step - loss: 0.3267 - accuracy: 0.8812\n"
     ]
    },
    {
     "data": {
      "text/plain": [
       "[0.3266941010951996, 0.8811666369438171]"
      ]
     },
     "execution_count": 68,
     "metadata": {},
     "output_type": "execute_result"
    }
   ],
   "source": [
    "model_cp = keras.models.load_model('./data/best_model2.h5')\n",
    "model_cp.evaluate(val_scaled, val_target)"
   ]
  },
  {
   "cell_type": "code",
   "execution_count": 63,
   "metadata": {},
   "outputs": [
    {
     "name": "stdout",
     "output_type": "stream",
     "text": [
      "375/375 [==============================] - 1s 1ms/step - loss: 0.3237 - accuracy: 0.8861\n"
     ]
    },
    {
     "data": {
      "text/plain": [
       "[0.3236612379550934, 0.8860833048820496]"
      ]
     },
     "execution_count": 63,
     "metadata": {},
     "output_type": "execute_result"
    }
   ],
   "source": [
    "model_12 = keras.models.load_model('./data/best_model_epoch12.h5')\n",
    "model_12.evaluate(val_scaled,val_target)"
   ]
  },
  {
   "cell_type": "code",
   "execution_count": 69,
   "metadata": {},
   "outputs": [
    {
     "data": {
      "text/plain": [
       "array([8, 8, 7, 4, 8, 4, 1, 0, 4, 5], dtype=int64)"
      ]
     },
     "execution_count": 69,
     "metadata": {},
     "output_type": "execute_result"
    }
   ],
   "source": [
    "# 예측결과\n",
    "val_labels[:10]"
   ]
  },
  {
   "cell_type": "code",
   "execution_count": null,
   "metadata": {},
   "outputs": [],
   "source": []
  }
 ],
 "metadata": {
  "kernelspec": {
   "display_name": "Python 3.10.6 64-bit (windows store)",
   "language": "python",
   "name": "python3"
  },
  "language_info": {
   "codemirror_mode": {
    "name": "ipython",
    "version": 3
   },
   "file_extension": ".py",
   "mimetype": "text/x-python",
   "name": "python",
   "nbconvert_exporter": "python",
   "pygments_lexer": "ipython3",
   "version": "3.10.6"
  },
  "orig_nbformat": 4,
  "vscode": {
   "interpreter": {
    "hash": "8bf0d51478355d2251941b3b98616086516a0eddd7c72ee47a3371765770709a"
   }
  }
 },
 "nbformat": 4,
 "nbformat_minor": 2
}
