{
 "cells": [
  {
   "cell_type": "markdown",
   "metadata": {},
   "source": [
    "### 사전준비"
   ]
  },
  {
   "cell_type": "code",
   "execution_count": 1,
   "metadata": {},
   "outputs": [],
   "source": [
    "# 기본 패키지\n",
    "import numpy as np \n",
    "import pandas as pd \n",
    "import scipy as sp \n",
    "\n",
    "import matplotlib as mpl \n",
    "import matplotlib.pyplot as plt\n",
    "import seaborn as sns"
   ]
  },
  {
   "cell_type": "code",
   "execution_count": 2,
   "metadata": {},
   "outputs": [],
   "source": [
    "# 머신러닝 패키지 import\n",
    "import statsmodels.api as sm \n",
    "import sklearn as sk"
   ]
  },
  {
   "cell_type": "code",
   "execution_count": 3,
   "metadata": {},
   "outputs": [],
   "source": [
    "# 한글 설정, 마이너스 표시 가능하게 하기\n",
    "from matplotlib import rc\n",
    "import matplotlib.font_manager as fm\n",
    "\n",
    "plt.rc('font', family='Malgun Gothic')\n",
    "sns.set(font = 'Malgun Gothic', rc={'axes.unicode_minus':False}, style='darkgrid')"
   ]
  },
  {
   "cell_type": "markdown",
   "metadata": {},
   "source": [
    "### 합성곱 신경망 이미지 분류"
   ]
  },
  {
   "cell_type": "code",
   "execution_count": 4,
   "metadata": {},
   "outputs": [],
   "source": [
    "from tensorflow import keras\n",
    "from tensorflow.keras.datasets.fashion_mnist import load_data\n",
    "from sklearn.model_selection import train_test_split"
   ]
  },
  {
   "cell_type": "code",
   "execution_count": 5,
   "metadata": {},
   "outputs": [],
   "source": [
    "(train_input, train_target), (test_input, test_target) = load_data()"
   ]
  },
  {
   "cell_type": "code",
   "execution_count": 6,
   "metadata": {},
   "outputs": [
    {
     "data": {
      "text/plain": [
       "(60000, 28, 28, 1)"
      ]
     },
     "execution_count": 6,
     "metadata": {},
     "output_type": "execute_result"
    }
   ],
   "source": [
    "train_scaled = train_input.reshape(-1, 28,28,1) / 255.0\n",
    "train_scaled.shape"
   ]
  },
  {
   "cell_type": "code",
   "execution_count": 7,
   "metadata": {},
   "outputs": [],
   "source": [
    "train_scaled, val_scaled, train_target, val_target = train_test_split(train_scaled, train_target, test_size=0.2, random_state=42)"
   ]
  },
  {
   "cell_type": "code",
   "execution_count": 10,
   "metadata": {},
   "outputs": [
    {
     "name": "stdout",
     "output_type": "stream",
     "text": [
      "(48000, 28, 28, 1) (48000,)\n",
      "(12000, 28, 28, 1) (12000,)\n"
     ]
    }
   ],
   "source": [
    "print(train_scaled.shape, train_target.shape)\n",
    "print(val_scaled.shape, val_target.shape)"
   ]
  },
  {
   "cell_type": "markdown",
   "metadata": {},
   "source": [
    "#### 합성곱 신경망 생성"
   ]
  },
  {
   "cell_type": "code",
   "execution_count": 13,
   "metadata": {},
   "outputs": [],
   "source": [
    "model = keras.Sequential()\n",
    "\n",
    "model.add(keras.layers.Conv2D(32, kernel_size=3, activation='relu', padding='same', input_shape=(28,28,1)))\n",
    "model.add(keras.layers.MaxPooling2D(2)) # 14X14 특성맵이 32개\n",
    "model.add(keras.layers.Conv2D(64,kernel_size=3, activation='relu', padding='same'))\n",
    "model.add(keras.layers.MaxPooling2D(2)) # 7X7 특성맵이 64개"
   ]
  },
  {
   "cell_type": "code",
   "execution_count": 15,
   "metadata": {},
   "outputs": [],
   "source": [
    "model.add(keras.layers.Flatten()) # 7X7X64 + 64\n",
    "model.add(keras.layers.Dense(100, activation='relu'))\n",
    "model.add(keras.layers.Dropout(0.4)) # 60개 노드만 통과, 나머지는 출력 안함\n",
    "model.add(keras.layers.Dense(10, activation='softmax'))"
   ]
  },
  {
   "cell_type": "code",
   "execution_count": 16,
   "metadata": {},
   "outputs": [
    {
     "name": "stdout",
     "output_type": "stream",
     "text": [
      "Model: \"sequential_1\"\n",
      "_________________________________________________________________\n",
      " Layer (type)                Output Shape              Param #   \n",
      "=================================================================\n",
      " conv2d_1 (Conv2D)           (None, 28, 28, 32)        320       \n",
      "                                                                 \n",
      " max_pooling2d_1 (MaxPooling  (None, 14, 14, 32)       0         \n",
      " 2D)                                                             \n",
      "                                                                 \n",
      " conv2d_2 (Conv2D)           (None, 14, 14, 64)        18496     \n",
      "                                                                 \n",
      " max_pooling2d_2 (MaxPooling  (None, 7, 7, 64)         0         \n",
      " 2D)                                                             \n",
      "                                                                 \n",
      " flatten (Flatten)           (None, 3136)              0         \n",
      "                                                                 \n",
      " dense (Dense)               (None, 100)               313700    \n",
      "                                                                 \n",
      " dropout (Dropout)           (None, 100)               0         \n",
      "                                                                 \n",
      " dense_1 (Dense)             (None, 10)                1010      \n",
      "                                                                 \n",
      "=================================================================\n",
      "Total params: 333,526\n",
      "Trainable params: 333,526\n",
      "Non-trainable params: 0\n",
      "_________________________________________________________________\n"
     ]
    }
   ],
   "source": [
    "model.summary()"
   ]
  },
  {
   "cell_type": "code",
   "execution_count": 17,
   "metadata": {},
   "outputs": [
    {
     "name": "stdout",
     "output_type": "stream",
     "text": [
      "You must install pydot (`pip install pydot`) and install graphviz (see instructions at https://graphviz.gitlab.io/download/) for plot_model/model_to_dot to work.\n"
     ]
    }
   ],
   "source": [
    "keras.utils.plot_model(model)"
   ]
  },
  {
   "cell_type": "markdown",
   "metadata": {},
   "source": [
    "#### 모델 컴파일 훈련"
   ]
  },
  {
   "cell_type": "code",
   "execution_count": 18,
   "metadata": {},
   "outputs": [
    {
     "name": "stdout",
     "output_type": "stream",
     "text": [
      "Epoch 1/20\n",
      "1498/1500 [============================>.] - ETA: 0s - loss: 0.5271 - accuracy: 0.8117\n",
      "Epoch 1: val_loss improved from inf to 0.33001, saving model to ./data\\best_cnn_model.h5\n",
      "1500/1500 [==============================] - 33s 22ms/step - loss: 0.5269 - accuracy: 0.8118 - val_loss: 0.3300 - val_accuracy: 0.8758\n",
      "Epoch 2/20\n",
      "1498/1500 [============================>.] - ETA: 0s - loss: 0.3451 - accuracy: 0.8753\n",
      "Epoch 2: val_loss improved from 0.33001 to 0.28303, saving model to ./data\\best_cnn_model.h5\n",
      "1500/1500 [==============================] - 36s 24ms/step - loss: 0.3450 - accuracy: 0.8753 - val_loss: 0.2830 - val_accuracy: 0.8935\n",
      "Epoch 3/20\n",
      "1499/1500 [============================>.] - ETA: 0s - loss: 0.2981 - accuracy: 0.8932\n",
      "Epoch 3: val_loss improved from 0.28303 to 0.24640, saving model to ./data\\best_cnn_model.h5\n",
      "1500/1500 [==============================] - 34s 23ms/step - loss: 0.2981 - accuracy: 0.8932 - val_loss: 0.2464 - val_accuracy: 0.9088\n",
      "Epoch 4/20\n",
      "1500/1500 [==============================] - ETA: 0s - loss: 0.2655 - accuracy: 0.9041\n",
      "Epoch 4: val_loss improved from 0.24640 to 0.24086, saving model to ./data\\best_cnn_model.h5\n",
      "1500/1500 [==============================] - 36s 24ms/step - loss: 0.2655 - accuracy: 0.9041 - val_loss: 0.2409 - val_accuracy: 0.9094\n",
      "Epoch 5/20\n",
      "1499/1500 [============================>.] - ETA: 0s - loss: 0.2424 - accuracy: 0.9113\n",
      "Epoch 5: val_loss improved from 0.24086 to 0.23742, saving model to ./data\\best_cnn_model.h5\n",
      "1500/1500 [==============================] - 34s 23ms/step - loss: 0.2423 - accuracy: 0.9114 - val_loss: 0.2374 - val_accuracy: 0.9153\n",
      "Epoch 6/20\n",
      "1500/1500 [==============================] - ETA: 0s - loss: 0.2202 - accuracy: 0.9195\n",
      "Epoch 6: val_loss improved from 0.23742 to 0.23366, saving model to ./data\\best_cnn_model.h5\n",
      "1500/1500 [==============================] - 32s 21ms/step - loss: 0.2202 - accuracy: 0.9195 - val_loss: 0.2337 - val_accuracy: 0.9189\n",
      "Epoch 7/20\n",
      "1499/1500 [============================>.] - ETA: 0s - loss: 0.2021 - accuracy: 0.9250\n",
      "Epoch 7: val_loss improved from 0.23366 to 0.23227, saving model to ./data\\best_cnn_model.h5\n",
      "1500/1500 [==============================] - 33s 22ms/step - loss: 0.2020 - accuracy: 0.9250 - val_loss: 0.2323 - val_accuracy: 0.9172\n",
      "Epoch 8/20\n",
      "1500/1500 [==============================] - ETA: 0s - loss: 0.1856 - accuracy: 0.9310\n",
      "Epoch 8: val_loss improved from 0.23227 to 0.21706, saving model to ./data\\best_cnn_model.h5\n",
      "1500/1500 [==============================] - 32s 21ms/step - loss: 0.1856 - accuracy: 0.9310 - val_loss: 0.2171 - val_accuracy: 0.9202\n",
      "Epoch 9/20\n",
      "1500/1500 [==============================] - ETA: 0s - loss: 0.1740 - accuracy: 0.9344\n",
      "Epoch 9: val_loss did not improve from 0.21706\n",
      "1500/1500 [==============================] - 34s 23ms/step - loss: 0.1740 - accuracy: 0.9344 - val_loss: 0.2210 - val_accuracy: 0.9204\n",
      "Epoch 10/20\n",
      "1500/1500 [==============================] - ETA: 0s - loss: 0.1597 - accuracy: 0.9398\n",
      "Epoch 10: val_loss did not improve from 0.21706\n",
      "Restoring model weights from the end of the best epoch: 8.\n",
      "1500/1500 [==============================] - 36s 24ms/step - loss: 0.1597 - accuracy: 0.9398 - val_loss: 0.2234 - val_accuracy: 0.9224\n",
      "Epoch 10: early stopping\n"
     ]
    }
   ],
   "source": [
    "model.compile(loss='sparse_categorical_crossentropy', metrics='accuracy',optimizer='adam')\n",
    "checkpoint_cb = keras.callbacks.ModelCheckpoint('./data/best_cnn_model.h5', save_best_only=True, verbose=1)\n",
    "early_stopping_cb = keras.callbacks.EarlyStopping(patience=2, restore_best_weights=True, verbose=1)\n",
    "history = model.fit(train_scaled, train_target, epochs=20, verbose=1, validation_data=(val_scaled, val_target),\n",
    "          callbacks=[checkpoint_cb, early_stopping_cb])"
   ]
  },
  {
   "cell_type": "code",
   "execution_count": 19,
   "metadata": {},
   "outputs": [
    {
     "data": {
      "image/png": "[encoded data removed]",
      "text/plain": [
       "<Figure size 720x360 with 1 Axes>"
      ]
     },
     "metadata": {
      "needs_background": "light"
     },
     "output_type": "display_data"
    }
   ],
   "source": [
    "plt.figure(figsize=(10,5))\n",
    "plt.plot(history.history['loss'])\n",
    "plt.plot(history.history['val_loss'])\n",
    "plt.show()"
   ]
  },
  {
   "cell_type": "code",
   "execution_count": 20,
   "metadata": {},
   "outputs": [
    {
     "data": {
      "text/plain": [
       "9"
      ]
     },
     "execution_count": 20,
     "metadata": {},
     "output_type": "execute_result"
    }
   ],
   "source": [
    "early_stopping_cb.stopped_epoch"
   ]
  },
  {
   "cell_type": "code",
   "execution_count": 21,
   "metadata": {},
   "outputs": [
    {
     "name": "stdout",
     "output_type": "stream",
     "text": [
      "375/375 [==============================] - 2s 6ms/step - loss: 0.2171 - accuracy: 0.9202\n"
     ]
    },
    {
     "data": {
      "text/plain": [
       "[0.21705561876296997, 0.9202499985694885]"
      ]
     },
     "execution_count": 21,
     "metadata": {},
     "output_type": "execute_result"
    }
   ],
   "source": [
    "model.evaluate(val_scaled, val_target)"
   ]
  },
  {
   "cell_type": "code",
   "execution_count": 22,
   "metadata": {},
   "outputs": [
    {
     "data": {
      "image/png": "[encoded data removed]",
      "text/plain": [
       "<Figure size 432x288 with 1 Axes>"
      ]
     },
     "metadata": {
      "needs_background": "light"
     },
     "output_type": "display_data"
    }
   ],
   "source": [
    "plt.imshow(X=val_scaled[0].reshape(28,28), cmap='gray_r')\n",
    "plt.show()"
   ]
  },
  {
   "cell_type": "code",
   "execution_count": 24,
   "metadata": {},
   "outputs": [
    {
     "name": "stdout",
     "output_type": "stream",
     "text": [
      "1/1 [==============================] - 0s 22ms/step\n"
     ]
    },
    {
     "data": {
      "text/plain": [
       "array([[1.0542179e-15, 3.1538491e-24, 5.3452576e-20, 2.7522706e-19,\n",
       "        3.6171880e-17, 9.8218423e-19, 1.5001924e-16, 7.0751934e-18,\n",
       "        1.0000000e+00, 6.6503592e-18]], dtype=float32)"
      ]
     },
     "execution_count": 24,
     "metadata": {},
     "output_type": "execute_result"
    }
   ],
   "source": [
    "# 예측\n",
    "result = model.predict(val_scaled[0:1])\n",
    "result"
   ]
  },
  {
   "cell_type": "code",
   "execution_count": 26,
   "metadata": {},
   "outputs": [
    {
     "name": "stdout",
     "output_type": "stream",
     "text": [
      "1/1 [==============================] - 0s 23ms/step\n"
     ]
    },
    {
     "data": {
      "text/plain": [
       "array([8], dtype=int64)"
      ]
     },
     "execution_count": 26,
     "metadata": {},
     "output_type": "execute_result"
    }
   ],
   "source": [
    "# 예측결과\n",
    "val_labels = np.argmax(model.predict(val_scaled[0:1]), axis=-1)\n",
    "val_labels"
   ]
  },
  {
   "cell_type": "code",
   "execution_count": 27,
   "metadata": {},
   "outputs": [],
   "source": [
    "classes = ['티셔츠','바지','스웨터','드레스','코트','샌들','셔츠','스니커즈','가방','앵클부츠']"
   ]
  },
  {
   "cell_type": "code",
   "execution_count": 28,
   "metadata": {},
   "outputs": [
    {
     "name": "stdout",
     "output_type": "stream",
     "text": [
      "가방\n"
     ]
    }
   ],
   "source": [
    "print(classes[np.argmax(result)])"
   ]
  },
  {
   "cell_type": "code",
   "execution_count": null,
   "metadata": {},
   "outputs": [],
   "source": []
  }
 ],
 "metadata": {
  "kernelspec": {
   "display_name": "Python 3.10.6 64-bit (windows store)",
   "language": "python",
   "name": "python3"
  },
  "language_info": {
   "codemirror_mode": {
    "name": "ipython",
    "version": 3
   },
   "file_extension": ".py",
   "mimetype": "text/x-python",
   "name": "python",
   "nbconvert_exporter": "python",
   "pygments_lexer": "ipython3",
   "version": "3.10.6"
  },
  "orig_nbformat": 4,
  "vscode": {
   "interpreter": {
    "hash": "8bf0d51478355d2251941b3b98616086516a0eddd7c72ee47a3371765770709a"
   }
  }
 },
 "nbformat": 4,
 "nbformat_minor": 2
}
