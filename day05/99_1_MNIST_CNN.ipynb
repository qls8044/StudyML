{
 "cells": [
  {
   "cell_type": "markdown",
   "metadata": {},
   "source": [
    "### 사전준비"
   ]
  },
  {
   "cell_type": "code",
   "execution_count": 1,
   "metadata": {},
   "outputs": [],
   "source": [
    "# 기본 패키지\n",
    "import numpy as np \n",
    "import pandas as pd \n",
    "import scipy as sp \n",
    "\n",
    "import matplotlib as mpl \n",
    "import matplotlib.pyplot as plt\n",
    "import seaborn as sns"
   ]
  },
  {
   "cell_type": "code",
   "execution_count": 2,
   "metadata": {},
   "outputs": [],
   "source": [
    "# 머신러닝 패키지 import\n",
    "import statsmodels.api as sm \n",
    "import sklearn as sk"
   ]
  },
  {
   "cell_type": "code",
   "execution_count": 3,
   "metadata": {},
   "outputs": [],
   "source": [
    "# 한글 설정, 마이너스 표시 가능하게 하기\n",
    "from matplotlib import rc\n",
    "import matplotlib.font_manager as fm\n",
    "\n",
    "plt.rc('font', family='Malgun Gothic')\n",
    "sns.set(font = 'Malgun Gothic', rc={'axes.unicode_minus':False}, style='darkgrid')"
   ]
  },
  {
   "cell_type": "markdown",
   "metadata": {},
   "source": [
    "### MNIST 다운로드"
   ]
  },
  {
   "cell_type": "code",
   "execution_count": 4,
   "metadata": {},
   "outputs": [],
   "source": [
    "from tensorflow import keras\n",
    "from tensorflow.keras.datasets.mnist import load_data\n",
    "from sklearn.model_selection import train_test_split"
   ]
  },
  {
   "cell_type": "code",
   "execution_count": 5,
   "metadata": {},
   "outputs": [],
   "source": [
    "(train_input, train_target), (test_input, test_target) = load_data()"
   ]
  },
  {
   "cell_type": "code",
   "execution_count": 6,
   "metadata": {},
   "outputs": [
    {
     "name": "stdout",
     "output_type": "stream",
     "text": [
      "(60000, 28, 28) (60000,)\n",
      "(10000, 28, 28) (10000,)\n"
     ]
    }
   ],
   "source": [
    "print(train_input.shape, train_target.shape)\n",
    "print(test_input.shape, test_target.shape)"
   ]
  },
  {
   "cell_type": "code",
   "execution_count": 7,
   "metadata": {},
   "outputs": [],
   "source": [
    "train_scaled = train_input.reshape(-1,28,28,1) / 255.0"
   ]
  },
  {
   "cell_type": "code",
   "execution_count": 8,
   "metadata": {},
   "outputs": [],
   "source": [
    "# MNIST 이미지 표현\n",
    "def show_images(dataset, label, nrow, ncol):\n",
    "    # 캔버스 설정\n",
    "    fig, axes = plt.subplots(nrows=nrow, ncols=ncol, figsize=(2*ncol, 2*nrow))\n",
    "    ax = axes.ravel()\n",
    "\n",
    "    xlabels = label[0:nrow*ncol]\n",
    "\n",
    "    for i in range(nrow*ncol):\n",
    "        image = dataset[i]\n",
    "        ax[i].imshow(image, cmap='gray_r')\n",
    "        ax[i].set_xticks([])\n",
    "        ax[i].set_yticks([])\n",
    "        ax[i].set_xlabel(xlabels[i])\n",
    "\n",
    "    plt.tight_layout\n",
    "    plt.show()"
   ]
  },
  {
   "cell_type": "code",
   "execution_count": 9,
   "metadata": {},
   "outputs": [
    {
     "data": {
      "image/png": "[encoded data removed]",
      "text/plain": [
       "<Figure size 1440x288 with 20 Axes>"
      ]
     },
     "metadata": {},
     "output_type": "display_data"
    }
   ],
   "source": [
    "show_images(train_input, train_target,2,10)"
   ]
  },
  {
   "cell_type": "code",
   "execution_count": 10,
   "metadata": {},
   "outputs": [
    {
     "name": "stdout",
     "output_type": "stream",
     "text": [
      "Model: \"CNN\"\n",
      "_________________________________________________________________\n",
      " Layer (type)                Output Shape              Param #   \n",
      "=================================================================\n",
      " conv2d (Conv2D)             (None, 28, 28, 32)        320       \n",
      "                                                                 \n",
      " max_pooling2d (MaxPooling2D  (None, 14, 14, 32)       0         \n",
      " )                                                               \n",
      "                                                                 \n",
      " conv2d_1 (Conv2D)           (None, 14, 14, 64)        18496     \n",
      "                                                                 \n",
      " max_pooling2d_1 (MaxPooling  (None, 7, 7, 64)         0         \n",
      " 2D)                                                             \n",
      "                                                                 \n",
      " flatten (Flatten)           (None, 3136)              0         \n",
      "                                                                 \n",
      " hidden (Dense)              (None, 1000)              3137000   \n",
      "                                                                 \n",
      " dropout (Dropout)           (None, 1000)              0         \n",
      "                                                                 \n",
      " output (Dense)              (None, 10)                10010     \n",
      "                                                                 \n",
      "=================================================================\n",
      "Total params: 3,165,826\n",
      "Trainable params: 3,165,826\n",
      "Non-trainable params: 0\n",
      "_________________________________________________________________\n"
     ]
    }
   ],
   "source": [
    "model = keras.Sequential(name='CNN')\n",
    "model.add(keras.layers.Conv2D(32, kernel_size=3, activation='relu', padding='same', input_shape=(28,28,1)))\n",
    "model.add(keras.layers.MaxPooling2D(2)) # 14X14 특성맵이 32개\n",
    "model.add(keras.layers.Conv2D(64,kernel_size=3, activation='relu', padding='same'))\n",
    "model.add(keras.layers.MaxPooling2D(2)) # 7X7 특성맵이 64개\n",
    "model.add(keras.layers.Flatten())\n",
    "model.add(keras.layers.Dense(1000,activation='relu',name='hidden'))\n",
    "model.add(keras.layers.Dropout(0.3))\n",
    "model.add(keras.layers.Dense(10,activation='softmax',name='output'))\n",
    "model.summary()"
   ]
  },
  {
   "cell_type": "code",
   "execution_count": 11,
   "metadata": {},
   "outputs": [
    {
     "name": "stdout",
     "output_type": "stream",
     "text": [
      "Epoch 1/20\n",
      "600/600 [==============================] - ETA: 0s - loss: 0.8048 - accuracy: 0.9344\n",
      "Epoch 1: val_loss improved from inf to 0.05838, saving model to ./data\\best_cnn_model2.h5\n",
      "600/600 [==============================] - 48s 80ms/step - loss: 0.8048 - accuracy: 0.9344 - val_loss: 0.0584 - val_accuracy: 0.9805\n",
      "Epoch 2/20\n",
      "600/600 [==============================] - ETA: 0s - loss: 0.0616 - accuracy: 0.9809\n",
      "Epoch 2: val_loss improved from 0.05838 to 0.05091, saving model to ./data\\best_cnn_model2.h5\n",
      "600/600 [==============================] - 50s 84ms/step - loss: 0.0616 - accuracy: 0.9809 - val_loss: 0.0509 - val_accuracy: 0.9843\n",
      "Epoch 3/20\n",
      "600/600 [==============================] - ETA: 0s - loss: 0.0437 - accuracy: 0.9861\n",
      "Epoch 3: val_loss did not improve from 0.05091\n",
      "600/600 [==============================] - 50s 84ms/step - loss: 0.0437 - accuracy: 0.9861 - val_loss: 0.0604 - val_accuracy: 0.9823\n",
      "Epoch 4/20\n",
      "600/600 [==============================] - ETA: 0s - loss: 0.0390 - accuracy: 0.9874\n",
      "Epoch 4: val_loss did not improve from 0.05091\n",
      "600/600 [==============================] - 52s 87ms/step - loss: 0.0390 - accuracy: 0.9874 - val_loss: 0.0536 - val_accuracy: 0.9853\n"
     ]
    }
   ],
   "source": [
    "# 255.0 나눠서 0~1로 값 축소하는 일은 암함\n",
    "model.compile(optimizer='adam',loss='sparse_categorical_crossentropy', metrics='accuracy')\n",
    "checkpoint_cb = keras.callbacks.ModelCheckpoint('./data/best_cnn_model2.h5', save_best_only=True, verbose=1)\n",
    "early_stopping_cb = keras.callbacks.EarlyStopping(patience=2, restore_best_weights=True)\n",
    "history = model.fit(train_input, train_target, epochs=20, verbose=1, validation_data=(test_input, test_target),\n",
    "                    batch_size=100, callbacks=[checkpoint_cb, early_stopping_cb])"
   ]
  },
  {
   "cell_type": "code",
   "execution_count": 12,
   "metadata": {},
   "outputs": [
    {
     "data": {
      "image/png": "[encoded data removed]",
      "text/plain": [
       "<Figure size 720x360 with 1 Axes>"
      ]
     },
     "metadata": {
      "needs_background": "light"
     },
     "output_type": "display_data"
    }
   ],
   "source": [
    "plot_target = ['loss','val_loss', 'accuracy','val_accuracy']\n",
    "plt.figure(figsize=(10,5))\n",
    "\n",
    "for each in plot_target:\n",
    "    plt.plot(history.history[each], label=each)\n",
    "plt.legend()\n",
    "plt.show()"
   ]
  },
  {
   "cell_type": "code",
   "execution_count": 13,
   "metadata": {},
   "outputs": [
    {
     "name": "stdout",
     "output_type": "stream",
     "text": [
      "313/313 [==============================] - 3s 8ms/step - loss: 0.0509 - accuracy: 0.9843\n"
     ]
    },
    {
     "data": {
      "text/plain": [
       "[0.05091315880417824, 0.9843000173568726]"
      ]
     },
     "execution_count": 13,
     "metadata": {},
     "output_type": "execute_result"
    }
   ],
   "source": [
    "model.evaluate(test_input, test_target)"
   ]
  },
  {
   "cell_type": "code",
   "execution_count": 14,
   "metadata": {},
   "outputs": [
    {
     "name": "stdout",
     "output_type": "stream",
     "text": [
      "313/313 [==============================] - 3s 8ms/step\n"
     ]
    }
   ],
   "source": [
    "# 예측된 결과값 리스트\n",
    "pred_result = model.predict(test_input)"
   ]
  },
  {
   "cell_type": "code",
   "execution_count": 15,
   "metadata": {},
   "outputs": [
    {
     "data": {
      "text/plain": [
       "(10000,)"
      ]
     },
     "execution_count": 15,
     "metadata": {},
     "output_type": "execute_result"
    }
   ],
   "source": [
    "pred_labels = np.argmax(pred_result, axis=-1)\n",
    "pred_labels[:10]\n",
    "pred_labels.shape"
   ]
  },
  {
   "cell_type": "markdown",
   "metadata": {},
   "source": [
    "##### 예측 실패한 이미지 파악"
   ]
  },
  {
   "cell_type": "code",
   "execution_count": 16,
   "metadata": {},
   "outputs": [
    {
     "data": {
      "text/plain": [
       "157"
      ]
     },
     "execution_count": 16,
     "metadata": {},
     "output_type": "execute_result"
    }
   ],
   "source": [
    "wrong_result = []\n",
    "for i in range(0,len(test_target)):\n",
    "    if pred_labels[i] != test_target[i]:\n",
    "        wrong_result.append(i)\n",
    "\n",
    "len(wrong_result)"
   ]
  },
  {
   "cell_type": "code",
   "execution_count": 17,
   "metadata": {},
   "outputs": [
    {
     "data": {
      "text/plain": [
       "16"
      ]
     },
     "execution_count": 17,
     "metadata": {},
     "output_type": "execute_result"
    }
   ],
   "source": [
    "import random\n",
    "\n",
    "samples = random.choices(population=wrong_result,k=16)\n",
    "len(samples)"
   ]
  },
  {
   "cell_type": "code",
   "execution_count": 18,
   "metadata": {},
   "outputs": [
    {
     "data": {
      "image/png": "[encoded data removed]",
      "text/plain": [
       "<Figure size 1008x864 with 16 Axes>"
      ]
     },
     "metadata": {
      "needs_background": "light"
     },
     "output_type": "display_data"
    }
   ],
   "source": [
    "# 예측실패한 이미지 확인\n",
    "plt.figure(figsize=(14,12))\n",
    "for idx,n in enumerate(samples):\n",
    "    plt.subplot(4,4,idx+1)\n",
    "    plt.imshow(test_input[n].reshape(28,28),cmap='gray_r',interpolation='nearest')\n",
    "    plt.title(f'label={test_target[n]} / predict={pred_labels[n]}')\n",
    "    plt.axis('off')\n",
    "\n",
    "plt.show()"
   ]
  },
  {
   "cell_type": "code",
   "execution_count": null,
   "metadata": {},
   "outputs": [],
   "source": []
  }
 ],
 "metadata": {
  "kernelspec": {
   "display_name": "Python 3.10.6 64-bit (windows store)",
   "language": "python",
   "name": "python3"
  },
  "language_info": {
   "codemirror_mode": {
    "name": "ipython",
    "version": 3
   },
   "file_extension": ".py",
   "mimetype": "text/x-python",
   "name": "python",
   "nbconvert_exporter": "python",
   "pygments_lexer": "ipython3",
   "version": "3.10.6"
  },
  "orig_nbformat": 4,
  "vscode": {
   "interpreter": {
    "hash": "8bf0d51478355d2251941b3b98616086516a0eddd7c72ee47a3371765770709a"
   }
  }
 },
 "nbformat": 4,
 "nbformat_minor": 2
}
